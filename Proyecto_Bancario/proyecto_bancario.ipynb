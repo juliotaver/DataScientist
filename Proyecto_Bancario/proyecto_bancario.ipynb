{
 "cells": [
  {
   "cell_type": "code",
   "execution_count": 1,
   "metadata": {},
   "outputs": [],
   "source": [
    "# Cargar todas las librerías\n",
    "import pandas as pd\n",
    "import matplotlib.pyplot as plt\n",
    "import numpy as np\n",
    "\n",
    "# Carga los datos\n",
    "credit_scoring = pd.read_csv('/datasets/credit_scoring_eng.csv')\n",
    "\n"
   ]
  },
  {
   "cell_type": "markdown",
   "metadata": {},
   "source": [
    "## Ejercicio 1. Exploración de datos\n",
    "\n",
    "**Descripción de los datos**\n",
    "- `children` - el número de hijos en la familia\n",
    "- `days_employed` - experiencia laboral en días\n",
    "- `dob_years` - la edad del cliente en años\n",
    "- `education` - la educación del cliente\n",
    "- `education_id` - identificador de educación\n",
    "- `family_status` - estado civil\n",
    "- `family_status_id` - identificador de estado civil\n",
    "- `gender` - género del cliente\n",
    "- `income_type` - tipo de empleo\n",
    "- `debt` - ¿había alguna deuda en el pago de un préstamo?\n",
    "- `total_income` - ingreso mensual\n",
    "- `purpose` - el propósito de obtener un préstamo\n",
    "\n",
    "[Ahora vamos a explorar nuestros datos. Querrás ver cuántas columnas y filas hay, observa algunas filas para identificar posibles problemas con los datos.]"
   ]
  },
  {
   "cell_type": "code",
   "execution_count": 2,
   "metadata": {},
   "outputs": [
    {
     "name": "stdout",
     "output_type": "stream",
     "text": [
      "Número de filas: 21525\n",
      "Número de columnas: 12\n"
     ]
    }
   ],
   "source": [
    "# Vamos a ver cuántas filas y columnas tiene nuestro conjunto de datos\n",
    "filas, columnas = credit_scoring.shape\n",
    "print(\"Número de filas:\", filas)\n",
    "print(\"Número de columnas:\", columnas)\n"
   ]
  },
  {
   "cell_type": "code",
   "execution_count": 3,
   "metadata": {
    "scrolled": true
   },
   "outputs": [
    {
     "data": {
      "text/html": [
       "<div>\n",
       "<style scoped>\n",
       "    .dataframe tbody tr th:only-of-type {\n",
       "        vertical-align: middle;\n",
       "    }\n",
       "\n",
       "    .dataframe tbody tr th {\n",
       "        vertical-align: top;\n",
       "    }\n",
       "\n",
       "    .dataframe thead th {\n",
       "        text-align: right;\n",
       "    }\n",
       "</style>\n",
       "<table border=\"1\" class=\"dataframe\">\n",
       "  <thead>\n",
       "    <tr style=\"text-align: right;\">\n",
       "      <th></th>\n",
       "      <th>children</th>\n",
       "      <th>days_employed</th>\n",
       "      <th>dob_years</th>\n",
       "      <th>education</th>\n",
       "      <th>education_id</th>\n",
       "      <th>family_status</th>\n",
       "      <th>family_status_id</th>\n",
       "      <th>gender</th>\n",
       "      <th>income_type</th>\n",
       "      <th>debt</th>\n",
       "      <th>total_income</th>\n",
       "      <th>purpose</th>\n",
       "    </tr>\n",
       "  </thead>\n",
       "  <tbody>\n",
       "    <tr>\n",
       "      <th>0</th>\n",
       "      <td>1</td>\n",
       "      <td>-8437.673028</td>\n",
       "      <td>42</td>\n",
       "      <td>bachelor's degree</td>\n",
       "      <td>0</td>\n",
       "      <td>married</td>\n",
       "      <td>0</td>\n",
       "      <td>F</td>\n",
       "      <td>employee</td>\n",
       "      <td>0</td>\n",
       "      <td>40620.102</td>\n",
       "      <td>purchase of the house</td>\n",
       "    </tr>\n",
       "    <tr>\n",
       "      <th>1</th>\n",
       "      <td>1</td>\n",
       "      <td>-4024.803754</td>\n",
       "      <td>36</td>\n",
       "      <td>secondary education</td>\n",
       "      <td>1</td>\n",
       "      <td>married</td>\n",
       "      <td>0</td>\n",
       "      <td>F</td>\n",
       "      <td>employee</td>\n",
       "      <td>0</td>\n",
       "      <td>17932.802</td>\n",
       "      <td>car purchase</td>\n",
       "    </tr>\n",
       "    <tr>\n",
       "      <th>2</th>\n",
       "      <td>0</td>\n",
       "      <td>-5623.422610</td>\n",
       "      <td>33</td>\n",
       "      <td>Secondary Education</td>\n",
       "      <td>1</td>\n",
       "      <td>married</td>\n",
       "      <td>0</td>\n",
       "      <td>M</td>\n",
       "      <td>employee</td>\n",
       "      <td>0</td>\n",
       "      <td>23341.752</td>\n",
       "      <td>purchase of the house</td>\n",
       "    </tr>\n",
       "    <tr>\n",
       "      <th>3</th>\n",
       "      <td>3</td>\n",
       "      <td>-4124.747207</td>\n",
       "      <td>32</td>\n",
       "      <td>secondary education</td>\n",
       "      <td>1</td>\n",
       "      <td>married</td>\n",
       "      <td>0</td>\n",
       "      <td>M</td>\n",
       "      <td>employee</td>\n",
       "      <td>0</td>\n",
       "      <td>42820.568</td>\n",
       "      <td>supplementary education</td>\n",
       "    </tr>\n",
       "    <tr>\n",
       "      <th>4</th>\n",
       "      <td>0</td>\n",
       "      <td>340266.072047</td>\n",
       "      <td>53</td>\n",
       "      <td>secondary education</td>\n",
       "      <td>1</td>\n",
       "      <td>civil partnership</td>\n",
       "      <td>1</td>\n",
       "      <td>F</td>\n",
       "      <td>retiree</td>\n",
       "      <td>0</td>\n",
       "      <td>25378.572</td>\n",
       "      <td>to have a wedding</td>\n",
       "    </tr>\n",
       "    <tr>\n",
       "      <th>5</th>\n",
       "      <td>0</td>\n",
       "      <td>-926.185831</td>\n",
       "      <td>27</td>\n",
       "      <td>bachelor's degree</td>\n",
       "      <td>0</td>\n",
       "      <td>civil partnership</td>\n",
       "      <td>1</td>\n",
       "      <td>M</td>\n",
       "      <td>business</td>\n",
       "      <td>0</td>\n",
       "      <td>40922.170</td>\n",
       "      <td>purchase of the house</td>\n",
       "    </tr>\n",
       "    <tr>\n",
       "      <th>6</th>\n",
       "      <td>0</td>\n",
       "      <td>-2879.202052</td>\n",
       "      <td>43</td>\n",
       "      <td>bachelor's degree</td>\n",
       "      <td>0</td>\n",
       "      <td>married</td>\n",
       "      <td>0</td>\n",
       "      <td>F</td>\n",
       "      <td>business</td>\n",
       "      <td>0</td>\n",
       "      <td>38484.156</td>\n",
       "      <td>housing transactions</td>\n",
       "    </tr>\n",
       "    <tr>\n",
       "      <th>7</th>\n",
       "      <td>0</td>\n",
       "      <td>-152.779569</td>\n",
       "      <td>50</td>\n",
       "      <td>SECONDARY EDUCATION</td>\n",
       "      <td>1</td>\n",
       "      <td>married</td>\n",
       "      <td>0</td>\n",
       "      <td>M</td>\n",
       "      <td>employee</td>\n",
       "      <td>0</td>\n",
       "      <td>21731.829</td>\n",
       "      <td>education</td>\n",
       "    </tr>\n",
       "    <tr>\n",
       "      <th>8</th>\n",
       "      <td>2</td>\n",
       "      <td>-6929.865299</td>\n",
       "      <td>35</td>\n",
       "      <td>BACHELOR'S DEGREE</td>\n",
       "      <td>0</td>\n",
       "      <td>civil partnership</td>\n",
       "      <td>1</td>\n",
       "      <td>F</td>\n",
       "      <td>employee</td>\n",
       "      <td>0</td>\n",
       "      <td>15337.093</td>\n",
       "      <td>having a wedding</td>\n",
       "    </tr>\n",
       "    <tr>\n",
       "      <th>9</th>\n",
       "      <td>0</td>\n",
       "      <td>-2188.756445</td>\n",
       "      <td>41</td>\n",
       "      <td>secondary education</td>\n",
       "      <td>1</td>\n",
       "      <td>married</td>\n",
       "      <td>0</td>\n",
       "      <td>M</td>\n",
       "      <td>employee</td>\n",
       "      <td>0</td>\n",
       "      <td>23108.150</td>\n",
       "      <td>purchase of the house for my family</td>\n",
       "    </tr>\n",
       "  </tbody>\n",
       "</table>\n",
       "</div>"
      ],
      "text/plain": [
       "   children  days_employed  dob_years            education  education_id  \\\n",
       "0         1   -8437.673028         42    bachelor's degree             0   \n",
       "1         1   -4024.803754         36  secondary education             1   \n",
       "2         0   -5623.422610         33  Secondary Education             1   \n",
       "3         3   -4124.747207         32  secondary education             1   \n",
       "4         0  340266.072047         53  secondary education             1   \n",
       "5         0    -926.185831         27    bachelor's degree             0   \n",
       "6         0   -2879.202052         43    bachelor's degree             0   \n",
       "7         0    -152.779569         50  SECONDARY EDUCATION             1   \n",
       "8         2   -6929.865299         35    BACHELOR'S DEGREE             0   \n",
       "9         0   -2188.756445         41  secondary education             1   \n",
       "\n",
       "       family_status  family_status_id gender income_type  debt  total_income  \\\n",
       "0            married                 0      F    employee     0     40620.102   \n",
       "1            married                 0      F    employee     0     17932.802   \n",
       "2            married                 0      M    employee     0     23341.752   \n",
       "3            married                 0      M    employee     0     42820.568   \n",
       "4  civil partnership                 1      F     retiree     0     25378.572   \n",
       "5  civil partnership                 1      M    business     0     40922.170   \n",
       "6            married                 0      F    business     0     38484.156   \n",
       "7            married                 0      M    employee     0     21731.829   \n",
       "8  civil partnership                 1      F    employee     0     15337.093   \n",
       "9            married                 0      M    employee     0     23108.150   \n",
       "\n",
       "                               purpose  \n",
       "0                purchase of the house  \n",
       "1                         car purchase  \n",
       "2                purchase of the house  \n",
       "3              supplementary education  \n",
       "4                    to have a wedding  \n",
       "5                purchase of the house  \n",
       "6                 housing transactions  \n",
       "7                            education  \n",
       "8                     having a wedding  \n",
       "9  purchase of the house for my family  "
      ]
     },
     "execution_count": 3,
     "metadata": {},
     "output_type": "execute_result"
    }
   ],
   "source": [
    "# vamos a mostrar las primeras filas N\n",
    "credit_scoring.head(10)\n"
   ]
  },
  {
   "attachments": {},
   "cell_type": "markdown",
   "metadata": {},
   "source": [
    "La tabla tiene un total de 21,525 entradas (filas).\n",
    "Hay 12 columnas en total, cada una con un nombre y un recuento de valores no nulos.\n",
    "Los tipos de datos de las columnas son: float64 (2 columnas), int64 (5 columnas) y object (5 columnas).\n",
    "Algunas columnas tienen valores nulos, como days_employed y total_income. Estas columnas tienen un recuento no nulo de 19,351, lo que significa que faltan algunos valores en esas columnas.\n",
    "En days_employed hay numeros negativos, necesito revisar eso.\n"
   ]
  },
  {
   "cell_type": "code",
   "execution_count": 4,
   "metadata": {
    "scrolled": false
   },
   "outputs": [
    {
     "name": "stdout",
     "output_type": "stream",
     "text": [
      "<class 'pandas.core.frame.DataFrame'>\n",
      "RangeIndex: 21525 entries, 0 to 21524\n",
      "Data columns (total 12 columns):\n",
      " #   Column            Non-Null Count  Dtype  \n",
      "---  ------            --------------  -----  \n",
      " 0   children          21525 non-null  int64  \n",
      " 1   days_employed     19351 non-null  float64\n",
      " 2   dob_years         21525 non-null  int64  \n",
      " 3   education         21525 non-null  object \n",
      " 4   education_id      21525 non-null  int64  \n",
      " 5   family_status     21525 non-null  object \n",
      " 6   family_status_id  21525 non-null  int64  \n",
      " 7   gender            21525 non-null  object \n",
      " 8   income_type       21525 non-null  object \n",
      " 9   debt              21525 non-null  int64  \n",
      " 10  total_income      19351 non-null  float64\n",
      " 11  purpose           21525 non-null  object \n",
      "dtypes: float64(2), int64(5), object(5)\n",
      "memory usage: 2.0+ MB\n"
     ]
    }
   ],
   "source": [
    "# Obtener información sobre los datos\n",
    "credit_scoring.info()\n"
   ]
  },
  {
   "attachments": {},
   "cell_type": "markdown",
   "metadata": {},
   "source": [
    "Hay valores ausentes en days_employed y total_income"
   ]
  },
  {
   "cell_type": "code",
   "execution_count": 5,
   "metadata": {
    "scrolled": true
   },
   "outputs": [
    {
     "data": {
      "text/html": [
       "<div>\n",
       "<style scoped>\n",
       "    .dataframe tbody tr th:only-of-type {\n",
       "        vertical-align: middle;\n",
       "    }\n",
       "\n",
       "    .dataframe tbody tr th {\n",
       "        vertical-align: top;\n",
       "    }\n",
       "\n",
       "    .dataframe thead th {\n",
       "        text-align: right;\n",
       "    }\n",
       "</style>\n",
       "<table border=\"1\" class=\"dataframe\">\n",
       "  <thead>\n",
       "    <tr style=\"text-align: right;\">\n",
       "      <th></th>\n",
       "      <th>children</th>\n",
       "      <th>days_employed</th>\n",
       "      <th>dob_years</th>\n",
       "      <th>education</th>\n",
       "      <th>education_id</th>\n",
       "      <th>family_status</th>\n",
       "      <th>family_status_id</th>\n",
       "      <th>gender</th>\n",
       "      <th>income_type</th>\n",
       "      <th>debt</th>\n",
       "      <th>total_income</th>\n",
       "      <th>purpose</th>\n",
       "    </tr>\n",
       "  </thead>\n",
       "  <tbody>\n",
       "    <tr>\n",
       "      <th>12</th>\n",
       "      <td>0</td>\n",
       "      <td>NaN</td>\n",
       "      <td>65</td>\n",
       "      <td>secondary education</td>\n",
       "      <td>1</td>\n",
       "      <td>civil partnership</td>\n",
       "      <td>1</td>\n",
       "      <td>M</td>\n",
       "      <td>retiree</td>\n",
       "      <td>0</td>\n",
       "      <td>NaN</td>\n",
       "      <td>to have a wedding</td>\n",
       "    </tr>\n",
       "    <tr>\n",
       "      <th>26</th>\n",
       "      <td>0</td>\n",
       "      <td>NaN</td>\n",
       "      <td>41</td>\n",
       "      <td>secondary education</td>\n",
       "      <td>1</td>\n",
       "      <td>married</td>\n",
       "      <td>0</td>\n",
       "      <td>M</td>\n",
       "      <td>civil servant</td>\n",
       "      <td>0</td>\n",
       "      <td>NaN</td>\n",
       "      <td>education</td>\n",
       "    </tr>\n",
       "    <tr>\n",
       "      <th>29</th>\n",
       "      <td>0</td>\n",
       "      <td>NaN</td>\n",
       "      <td>63</td>\n",
       "      <td>secondary education</td>\n",
       "      <td>1</td>\n",
       "      <td>unmarried</td>\n",
       "      <td>4</td>\n",
       "      <td>F</td>\n",
       "      <td>retiree</td>\n",
       "      <td>0</td>\n",
       "      <td>NaN</td>\n",
       "      <td>building a real estate</td>\n",
       "    </tr>\n",
       "    <tr>\n",
       "      <th>41</th>\n",
       "      <td>0</td>\n",
       "      <td>NaN</td>\n",
       "      <td>50</td>\n",
       "      <td>secondary education</td>\n",
       "      <td>1</td>\n",
       "      <td>married</td>\n",
       "      <td>0</td>\n",
       "      <td>F</td>\n",
       "      <td>civil servant</td>\n",
       "      <td>0</td>\n",
       "      <td>NaN</td>\n",
       "      <td>second-hand car purchase</td>\n",
       "    </tr>\n",
       "    <tr>\n",
       "      <th>55</th>\n",
       "      <td>0</td>\n",
       "      <td>NaN</td>\n",
       "      <td>54</td>\n",
       "      <td>secondary education</td>\n",
       "      <td>1</td>\n",
       "      <td>civil partnership</td>\n",
       "      <td>1</td>\n",
       "      <td>F</td>\n",
       "      <td>retiree</td>\n",
       "      <td>1</td>\n",
       "      <td>NaN</td>\n",
       "      <td>to have a wedding</td>\n",
       "    </tr>\n",
       "    <tr>\n",
       "      <th>...</th>\n",
       "      <td>...</td>\n",
       "      <td>...</td>\n",
       "      <td>...</td>\n",
       "      <td>...</td>\n",
       "      <td>...</td>\n",
       "      <td>...</td>\n",
       "      <td>...</td>\n",
       "      <td>...</td>\n",
       "      <td>...</td>\n",
       "      <td>...</td>\n",
       "      <td>...</td>\n",
       "      <td>...</td>\n",
       "    </tr>\n",
       "    <tr>\n",
       "      <th>21489</th>\n",
       "      <td>2</td>\n",
       "      <td>NaN</td>\n",
       "      <td>47</td>\n",
       "      <td>Secondary Education</td>\n",
       "      <td>1</td>\n",
       "      <td>married</td>\n",
       "      <td>0</td>\n",
       "      <td>M</td>\n",
       "      <td>business</td>\n",
       "      <td>0</td>\n",
       "      <td>NaN</td>\n",
       "      <td>purchase of a car</td>\n",
       "    </tr>\n",
       "    <tr>\n",
       "      <th>21495</th>\n",
       "      <td>1</td>\n",
       "      <td>NaN</td>\n",
       "      <td>50</td>\n",
       "      <td>secondary education</td>\n",
       "      <td>1</td>\n",
       "      <td>civil partnership</td>\n",
       "      <td>1</td>\n",
       "      <td>F</td>\n",
       "      <td>employee</td>\n",
       "      <td>0</td>\n",
       "      <td>NaN</td>\n",
       "      <td>wedding ceremony</td>\n",
       "    </tr>\n",
       "    <tr>\n",
       "      <th>21497</th>\n",
       "      <td>0</td>\n",
       "      <td>NaN</td>\n",
       "      <td>48</td>\n",
       "      <td>BACHELOR'S DEGREE</td>\n",
       "      <td>0</td>\n",
       "      <td>married</td>\n",
       "      <td>0</td>\n",
       "      <td>F</td>\n",
       "      <td>business</td>\n",
       "      <td>0</td>\n",
       "      <td>NaN</td>\n",
       "      <td>building a property</td>\n",
       "    </tr>\n",
       "    <tr>\n",
       "      <th>21502</th>\n",
       "      <td>1</td>\n",
       "      <td>NaN</td>\n",
       "      <td>42</td>\n",
       "      <td>secondary education</td>\n",
       "      <td>1</td>\n",
       "      <td>married</td>\n",
       "      <td>0</td>\n",
       "      <td>F</td>\n",
       "      <td>employee</td>\n",
       "      <td>0</td>\n",
       "      <td>NaN</td>\n",
       "      <td>building a real estate</td>\n",
       "    </tr>\n",
       "    <tr>\n",
       "      <th>21510</th>\n",
       "      <td>2</td>\n",
       "      <td>NaN</td>\n",
       "      <td>28</td>\n",
       "      <td>secondary education</td>\n",
       "      <td>1</td>\n",
       "      <td>married</td>\n",
       "      <td>0</td>\n",
       "      <td>F</td>\n",
       "      <td>employee</td>\n",
       "      <td>0</td>\n",
       "      <td>NaN</td>\n",
       "      <td>car purchase</td>\n",
       "    </tr>\n",
       "  </tbody>\n",
       "</table>\n",
       "<p>2174 rows × 12 columns</p>\n",
       "</div>"
      ],
      "text/plain": [
       "       children  days_employed  dob_years            education  education_id  \\\n",
       "12            0            NaN         65  secondary education             1   \n",
       "26            0            NaN         41  secondary education             1   \n",
       "29            0            NaN         63  secondary education             1   \n",
       "41            0            NaN         50  secondary education             1   \n",
       "55            0            NaN         54  secondary education             1   \n",
       "...         ...            ...        ...                  ...           ...   \n",
       "21489         2            NaN         47  Secondary Education             1   \n",
       "21495         1            NaN         50  secondary education             1   \n",
       "21497         0            NaN         48    BACHELOR'S DEGREE             0   \n",
       "21502         1            NaN         42  secondary education             1   \n",
       "21510         2            NaN         28  secondary education             1   \n",
       "\n",
       "           family_status  family_status_id gender    income_type  debt  \\\n",
       "12     civil partnership                 1      M        retiree     0   \n",
       "26               married                 0      M  civil servant     0   \n",
       "29             unmarried                 4      F        retiree     0   \n",
       "41               married                 0      F  civil servant     0   \n",
       "55     civil partnership                 1      F        retiree     1   \n",
       "...                  ...               ...    ...            ...   ...   \n",
       "21489            married                 0      M       business     0   \n",
       "21495  civil partnership                 1      F       employee     0   \n",
       "21497            married                 0      F       business     0   \n",
       "21502            married                 0      F       employee     0   \n",
       "21510            married                 0      F       employee     0   \n",
       "\n",
       "       total_income                   purpose  \n",
       "12              NaN         to have a wedding  \n",
       "26              NaN                 education  \n",
       "29              NaN    building a real estate  \n",
       "41              NaN  second-hand car purchase  \n",
       "55              NaN         to have a wedding  \n",
       "...             ...                       ...  \n",
       "21489           NaN         purchase of a car  \n",
       "21495           NaN          wedding ceremony  \n",
       "21497           NaN       building a property  \n",
       "21502           NaN    building a real estate  \n",
       "21510           NaN              car purchase  \n",
       "\n",
       "[2174 rows x 12 columns]"
      ]
     },
     "execution_count": 5,
     "metadata": {},
     "output_type": "execute_result"
    }
   ],
   "source": [
    "# Veamos la tabla filtrada con valores ausentes de la primera columna donde faltan datos\n",
    "columna_faltante = 'days_employed'  # Nombre de la primera columna que tiene valores ausentes\n",
    "tabla_filtrada = credit_scoring[credit_scoring[columna_faltante].isnull()]\n",
    "tabla_filtrada\n",
    "\n"
   ]
  },
  {
   "attachments": {},
   "cell_type": "markdown",
   "metadata": {},
   "source": [
    "Puedo observar que en donde hay valores ausentes de la columna days_employed, la mayoria de educacion es secundaria, y no presentan total income, asi que a primera vista se ve que el valor ausente es por que no cuenta con empleo."
   ]
  },
  {
   "cell_type": "code",
   "execution_count": 6,
   "metadata": {},
   "outputs": [
    {
     "name": "stdout",
     "output_type": "stream",
     "text": [
      "Número de filas en tabla filtrada 1: 2174\n",
      "Número de columnas en tabla filtrada 1: 12\n",
      "Número de filas en tabla filtrada 2: 2174\n",
      "Número de columnas en tabla filtrada 2: 12\n",
      "\n",
      "children               0\n",
      "days_employed       2174\n",
      "dob_years              0\n",
      "education              0\n",
      "education_id           0\n",
      "family_status          0\n",
      "family_status_id       0\n",
      "gender                 0\n",
      "income_type            0\n",
      "debt                   0\n",
      "total_income        2174\n",
      "purpose                0\n",
      "dtype: int64\n"
     ]
    }
   ],
   "source": [
    "# Apliquemos múltiples condiciones para filtrar datos y veamos el número de filas en la tabla filtrada.\n",
    "columna_faltante2 = 'total_income'  # Nombre de la segunda columna que tiene valores ausentes\n",
    "tabla_filtrada2 = credit_scoring[credit_scoring[columna_faltante].isnull()]\n",
    "tabla_filtrada2\n",
    "filas2, columnas2 = tabla_filtrada.shape\n",
    "print(\"Número de filas en tabla filtrada 1:\", filas2)\n",
    "print(\"Número de columnas en tabla filtrada 1:\", columnas2)\n",
    "filas3, columnas3 = tabla_filtrada2.shape\n",
    "print(\"Número de filas en tabla filtrada 2:\", filas3)\n",
    "print(\"Número de columnas en tabla filtrada 2:\", columnas3)\n",
    "num_valores_ausentes = credit_scoring.isnull().sum()\n",
    "print()\n",
    "print(num_valores_ausentes)\n",
    "\n",
    "\n"
   ]
  },
  {
   "attachments": {},
   "cell_type": "markdown",
   "metadata": {},
   "source": [
    "\n",
    "Saque el porcentaje de valores ausentes en el siguiente codigo"
   ]
  },
  {
   "cell_type": "code",
   "execution_count": 7,
   "metadata": {},
   "outputs": [
    {
     "name": "stdout",
     "output_type": "stream",
     "text": [
      "Porcentaje de valores ausentes: 20.199767711962835 %\n"
     ]
    }
   ],
   "source": [
    "total_filas = credit_scoring.shape[0]  # Número total de filas en el DataFrame\n",
    "total_valores_ausentes = num_valores_ausentes.sum()  # Suma total de valores ausentes en todas las columnas\n",
    "\n",
    "porcentaje_valores_ausentes = (total_valores_ausentes / total_filas) * 100\n",
    "print(\"Porcentaje de valores ausentes:\", porcentaje_valores_ausentes, \"%\")\n"
   ]
  },
  {
   "cell_type": "code",
   "execution_count": 8,
   "metadata": {},
   "outputs": [
    {
     "data": {
      "text/html": [
       "<div>\n",
       "<style scoped>\n",
       "    .dataframe tbody tr th:only-of-type {\n",
       "        vertical-align: middle;\n",
       "    }\n",
       "\n",
       "    .dataframe tbody tr th {\n",
       "        vertical-align: top;\n",
       "    }\n",
       "\n",
       "    .dataframe thead th {\n",
       "        text-align: right;\n",
       "    }\n",
       "</style>\n",
       "<table border=\"1\" class=\"dataframe\">\n",
       "  <thead>\n",
       "    <tr style=\"text-align: right;\">\n",
       "      <th></th>\n",
       "      <th>children</th>\n",
       "      <th>days_employed</th>\n",
       "      <th>dob_years</th>\n",
       "      <th>education</th>\n",
       "      <th>education_id</th>\n",
       "      <th>family_status</th>\n",
       "      <th>family_status_id</th>\n",
       "      <th>gender</th>\n",
       "      <th>income_type</th>\n",
       "      <th>debt</th>\n",
       "      <th>total_income</th>\n",
       "      <th>purpose</th>\n",
       "    </tr>\n",
       "  </thead>\n",
       "  <tbody>\n",
       "    <tr>\n",
       "      <th>12</th>\n",
       "      <td>0</td>\n",
       "      <td>NaN</td>\n",
       "      <td>65</td>\n",
       "      <td>secondary education</td>\n",
       "      <td>1</td>\n",
       "      <td>civil partnership</td>\n",
       "      <td>1</td>\n",
       "      <td>M</td>\n",
       "      <td>retiree</td>\n",
       "      <td>0</td>\n",
       "      <td>NaN</td>\n",
       "      <td>to have a wedding</td>\n",
       "    </tr>\n",
       "    <tr>\n",
       "      <th>26</th>\n",
       "      <td>0</td>\n",
       "      <td>NaN</td>\n",
       "      <td>41</td>\n",
       "      <td>secondary education</td>\n",
       "      <td>1</td>\n",
       "      <td>married</td>\n",
       "      <td>0</td>\n",
       "      <td>M</td>\n",
       "      <td>civil servant</td>\n",
       "      <td>0</td>\n",
       "      <td>NaN</td>\n",
       "      <td>education</td>\n",
       "    </tr>\n",
       "    <tr>\n",
       "      <th>29</th>\n",
       "      <td>0</td>\n",
       "      <td>NaN</td>\n",
       "      <td>63</td>\n",
       "      <td>secondary education</td>\n",
       "      <td>1</td>\n",
       "      <td>unmarried</td>\n",
       "      <td>4</td>\n",
       "      <td>F</td>\n",
       "      <td>retiree</td>\n",
       "      <td>0</td>\n",
       "      <td>NaN</td>\n",
       "      <td>building a real estate</td>\n",
       "    </tr>\n",
       "    <tr>\n",
       "      <th>41</th>\n",
       "      <td>0</td>\n",
       "      <td>NaN</td>\n",
       "      <td>50</td>\n",
       "      <td>secondary education</td>\n",
       "      <td>1</td>\n",
       "      <td>married</td>\n",
       "      <td>0</td>\n",
       "      <td>F</td>\n",
       "      <td>civil servant</td>\n",
       "      <td>0</td>\n",
       "      <td>NaN</td>\n",
       "      <td>second-hand car purchase</td>\n",
       "    </tr>\n",
       "    <tr>\n",
       "      <th>55</th>\n",
       "      <td>0</td>\n",
       "      <td>NaN</td>\n",
       "      <td>54</td>\n",
       "      <td>secondary education</td>\n",
       "      <td>1</td>\n",
       "      <td>civil partnership</td>\n",
       "      <td>1</td>\n",
       "      <td>F</td>\n",
       "      <td>retiree</td>\n",
       "      <td>1</td>\n",
       "      <td>NaN</td>\n",
       "      <td>to have a wedding</td>\n",
       "    </tr>\n",
       "    <tr>\n",
       "      <th>...</th>\n",
       "      <td>...</td>\n",
       "      <td>...</td>\n",
       "      <td>...</td>\n",
       "      <td>...</td>\n",
       "      <td>...</td>\n",
       "      <td>...</td>\n",
       "      <td>...</td>\n",
       "      <td>...</td>\n",
       "      <td>...</td>\n",
       "      <td>...</td>\n",
       "      <td>...</td>\n",
       "      <td>...</td>\n",
       "    </tr>\n",
       "    <tr>\n",
       "      <th>21489</th>\n",
       "      <td>2</td>\n",
       "      <td>NaN</td>\n",
       "      <td>47</td>\n",
       "      <td>Secondary Education</td>\n",
       "      <td>1</td>\n",
       "      <td>married</td>\n",
       "      <td>0</td>\n",
       "      <td>M</td>\n",
       "      <td>business</td>\n",
       "      <td>0</td>\n",
       "      <td>NaN</td>\n",
       "      <td>purchase of a car</td>\n",
       "    </tr>\n",
       "    <tr>\n",
       "      <th>21495</th>\n",
       "      <td>1</td>\n",
       "      <td>NaN</td>\n",
       "      <td>50</td>\n",
       "      <td>secondary education</td>\n",
       "      <td>1</td>\n",
       "      <td>civil partnership</td>\n",
       "      <td>1</td>\n",
       "      <td>F</td>\n",
       "      <td>employee</td>\n",
       "      <td>0</td>\n",
       "      <td>NaN</td>\n",
       "      <td>wedding ceremony</td>\n",
       "    </tr>\n",
       "    <tr>\n",
       "      <th>21497</th>\n",
       "      <td>0</td>\n",
       "      <td>NaN</td>\n",
       "      <td>48</td>\n",
       "      <td>BACHELOR'S DEGREE</td>\n",
       "      <td>0</td>\n",
       "      <td>married</td>\n",
       "      <td>0</td>\n",
       "      <td>F</td>\n",
       "      <td>business</td>\n",
       "      <td>0</td>\n",
       "      <td>NaN</td>\n",
       "      <td>building a property</td>\n",
       "    </tr>\n",
       "    <tr>\n",
       "      <th>21502</th>\n",
       "      <td>1</td>\n",
       "      <td>NaN</td>\n",
       "      <td>42</td>\n",
       "      <td>secondary education</td>\n",
       "      <td>1</td>\n",
       "      <td>married</td>\n",
       "      <td>0</td>\n",
       "      <td>F</td>\n",
       "      <td>employee</td>\n",
       "      <td>0</td>\n",
       "      <td>NaN</td>\n",
       "      <td>building a real estate</td>\n",
       "    </tr>\n",
       "    <tr>\n",
       "      <th>21510</th>\n",
       "      <td>2</td>\n",
       "      <td>NaN</td>\n",
       "      <td>28</td>\n",
       "      <td>secondary education</td>\n",
       "      <td>1</td>\n",
       "      <td>married</td>\n",
       "      <td>0</td>\n",
       "      <td>F</td>\n",
       "      <td>employee</td>\n",
       "      <td>0</td>\n",
       "      <td>NaN</td>\n",
       "      <td>car purchase</td>\n",
       "    </tr>\n",
       "  </tbody>\n",
       "</table>\n",
       "<p>2174 rows × 12 columns</p>\n",
       "</div>"
      ],
      "text/plain": [
       "       children  days_employed  dob_years            education  education_id  \\\n",
       "12            0            NaN         65  secondary education             1   \n",
       "26            0            NaN         41  secondary education             1   \n",
       "29            0            NaN         63  secondary education             1   \n",
       "41            0            NaN         50  secondary education             1   \n",
       "55            0            NaN         54  secondary education             1   \n",
       "...         ...            ...        ...                  ...           ...   \n",
       "21489         2            NaN         47  Secondary Education             1   \n",
       "21495         1            NaN         50  secondary education             1   \n",
       "21497         0            NaN         48    BACHELOR'S DEGREE             0   \n",
       "21502         1            NaN         42  secondary education             1   \n",
       "21510         2            NaN         28  secondary education             1   \n",
       "\n",
       "           family_status  family_status_id gender    income_type  debt  \\\n",
       "12     civil partnership                 1      M        retiree     0   \n",
       "26               married                 0      M  civil servant     0   \n",
       "29             unmarried                 4      F        retiree     0   \n",
       "41               married                 0      F  civil servant     0   \n",
       "55     civil partnership                 1      F        retiree     1   \n",
       "...                  ...               ...    ...            ...   ...   \n",
       "21489            married                 0      M       business     0   \n",
       "21495  civil partnership                 1      F       employee     0   \n",
       "21497            married                 0      F       business     0   \n",
       "21502            married                 0      F       employee     0   \n",
       "21510            married                 0      F       employee     0   \n",
       "\n",
       "       total_income                   purpose  \n",
       "12              NaN         to have a wedding  \n",
       "26              NaN                 education  \n",
       "29              NaN    building a real estate  \n",
       "41              NaN  second-hand car purchase  \n",
       "55              NaN         to have a wedding  \n",
       "...             ...                       ...  \n",
       "21489           NaN         purchase of a car  \n",
       "21495           NaN          wedding ceremony  \n",
       "21497           NaN       building a property  \n",
       "21502           NaN    building a real estate  \n",
       "21510           NaN              car purchase  \n",
       "\n",
       "[2174 rows x 12 columns]"
      ]
     },
     "execution_count": 8,
     "metadata": {},
     "output_type": "execute_result"
    }
   ],
   "source": [
    "# Vamos a investigar a los clientes que no tienen datos sobre la característica identificada y la columna con los valores ausentes\n",
    "#filtrando la lista para solo crear un nuevo dataframe donde que contenga solo las filas donde tanto la columna days_employed como la columna total_income tengan valores ausentes.\n",
    "clientes_sin_datos = credit_scoring[credit_scoring['days_employed'].isnull() & credit_scoring['total_income'].isnull()]\n",
    "clientes_sin_datos\n"
   ]
  },
  {
   "cell_type": "code",
   "execution_count": 9,
   "metadata": {},
   "outputs": [
    {
     "name": "stdout",
     "output_type": "stream",
     "text": [
      "secondary education    1408\n",
      "bachelor's degree       496\n",
      "SECONDARY EDUCATION      67\n",
      "Secondary Education      65\n",
      "some college             55\n",
      "Bachelor's Degree        25\n",
      "BACHELOR'S DEGREE        23\n",
      "primary education        19\n",
      "SOME COLLEGE              7\n",
      "Some College              7\n",
      "Primary Education         1\n",
      "PRIMARY EDUCATION         1\n",
      "Name: education, dtype: int64\n",
      "\n",
      "employee         1105\n",
      "business          508\n",
      "retiree           413\n",
      "civil servant     147\n",
      "entrepreneur        1\n",
      "Name: income_type, dtype: int64\n",
      "\n",
      "married              1237\n",
      "civil partnership     442\n",
      "unmarried             288\n",
      "divorced              112\n",
      "widow / widower        95\n",
      "Name: family_status, dtype: int64\n"
     ]
    }
   ],
   "source": [
    "# Comprobación de la distribución\n",
    "print(clientes_sin_datos['education'].value_counts())\n",
    "print()\n",
    "print(clientes_sin_datos['income_type'].value_counts())\n",
    "print()\n",
    "print(clientes_sin_datos['family_status'].value_counts())\n"
   ]
  },
  {
   "attachments": {},
   "cell_type": "markdown",
   "metadata": {},
   "source": [
    "\n",
    "La mayoria de valores ausentes cuentan con la secondary education.\n",
    "En la columna education, hay varias categorías que representan diferentes niveles de educación. Sin embargo, existen variaciones en la forma en que se registran las categorías, como diferencias en la capitalización o el uso de abreviaturas. Esto sugiere que puede haber inconsistencias en la forma en que se ingresaron los datos. Sería recomendable realizar una limpieza y estandarización de las categorías de educación para evitar duplicados y errores en el análisis.\n",
    "Teniendo en cuenta estos resultados, es difícil determinar la razón exacta por la cual los valores están ausentes en las columnas days_employed y total_income sin más información. Sin embargo, hay posibles explicaciones y escenarios que podrían estar asociados con los valores ausentes.\n"
   ]
  },
  {
   "cell_type": "code",
   "execution_count": 10,
   "metadata": {},
   "outputs": [
    {
     "name": "stdout",
     "output_type": "stream",
     "text": [
      "Distribución de valores en la columna: education\n",
      "secondary education    13750\n",
      "bachelor's degree       4718\n",
      "SECONDARY EDUCATION      772\n",
      "Secondary Education      711\n",
      "some college             668\n",
      "BACHELOR'S DEGREE        274\n",
      "Bachelor's Degree        268\n",
      "primary education        250\n",
      "Some College              47\n",
      "SOME COLLEGE              29\n",
      "PRIMARY EDUCATION         17\n",
      "Primary Education         15\n",
      "graduate degree            4\n",
      "Graduate Degree            1\n",
      "GRADUATE DEGREE            1\n",
      "Name: education, dtype: int64\n",
      "\n",
      "Distribución de valores en la columna: income_type\n",
      "employee                       11119\n",
      "business                        5085\n",
      "retiree                         3856\n",
      "civil servant                   1459\n",
      "unemployed                         2\n",
      "entrepreneur                       2\n",
      "student                            1\n",
      "paternity / maternity leave        1\n",
      "Name: income_type, dtype: int64\n",
      "\n",
      "Distribución de valores en la columna: family_status\n",
      "married              12380\n",
      "civil partnership     4177\n",
      "unmarried             2813\n",
      "divorced              1195\n",
      "widow / widower        960\n",
      "Name: family_status, dtype: int64\n",
      "\n"
     ]
    }
   ],
   "source": [
    "# Comprobando la distribución en el conjunto de datos entero\n",
    "columnas_categoricas = ['education', 'income_type', 'family_status']\n",
    "\n",
    "for columna in columnas_categoricas:\n",
    "    print(\"Distribución de valores en la columna:\", columna)\n",
    "    print(credit_scoring[columna].value_counts())\n",
    "    print()\n",
    "\n",
    "\n"
   ]
  },
  {
   "attachments": {},
   "cell_type": "markdown",
   "metadata": {},
   "source": [
    "En general, la distribución en el conjunto de datos original es bastante similar a la distribución en la tabla filtrada, lo que indica que los valores ausentes en la tabla filtrada no parecen seguir un patrón específico relacionado con las características de los clientes, como la educación, el tipo de ingreso o el estado civil. Sin embargo, es importante tener en cuenta las diferencias en las categorías adicionales presentes en el conjunto de datos original, como \"entrepreneur\", \"unemployed\" y \"student\", que no están presentes en la tabla filtrada y podrían estar relacionadas con los valores ausentes\n"
   ]
  },
  {
   "attachments": {},
   "cell_type": "markdown",
   "metadata": {},
   "source": [
    "\n",
    "Verificar si los valores ausentes están relacionados con una columna específica: Examina si los valores ausentes en las columnas days_employed y total_income están relacionados con una columna específica en el conjunto de datos. Puedes verificar esto mediante la comparación de la distribución de los valores ausentes con la distribución de otra columna. Por ejemplo, puedes comparar la distribución de los valores ausentes con la distribución de la columna gender o la columna purpose para identificar posibles correlaciones."
   ]
  },
  {
   "cell_type": "code",
   "execution_count": 12,
   "metadata": {
    "scrolled": true
   },
   "outputs": [
    {
     "name": "stdout",
     "output_type": "stream",
     "text": [
      "days_employed  False True \n",
      "total_income   False True \n",
      "gender                    \n",
      "False          19351  2174\n"
     ]
    }
   ],
   "source": [
    "# Comprobación de otros patrones: explica cuáles\n",
    "\n",
    "tabla_contingencia = pd.crosstab(index=credit_scoring['gender'].isnull(), columns=[credit_scoring['days_employed'].isnull(), credit_scoring['total_income'].isnull()])\n",
    "print(tabla_contingencia)\n"
   ]
  },
  {
   "attachments": {},
   "cell_type": "markdown",
   "metadata": {},
   "source": [
    "\n",
    "En la columna gender, todos los registros tienen valores presentes (False) y no hay valores ausentes (True).\n",
    "\n",
    "En la columna days_employed, hay 19,351 registros con valores presentes (False) y 2,174 registros con valores ausentes (True).\n",
    "\n",
    "En la columna total_income, también hay 19,351 registros con valores presentes (False) y 2,174 registros con valores ausentes (True).\n",
    "\n",
    "Estos resultados indican que no hay una relación directa entre los valores ausentes en las columnas days_employed y total_income y la columna gender. Es decir, la falta de datos en las columnas days_employed y total_income no parece depender del género de los clientes."
   ]
  },
  {
   "attachments": {},
   "cell_type": "markdown",
   "metadata": {},
   "source": [
    "## Transformación de datos\n"
   ]
  },
  {
   "cell_type": "code",
   "execution_count": 13,
   "metadata": {},
   "outputs": [
    {
     "name": "stdout",
     "output_type": "stream",
     "text": [
      "[\"bachelor's degree\" 'secondary education' 'Secondary Education'\n",
      " 'SECONDARY EDUCATION' \"BACHELOR'S DEGREE\" 'some college'\n",
      " 'primary education' \"Bachelor's Degree\" 'SOME COLLEGE' 'Some College'\n",
      " 'PRIMARY EDUCATION' 'Primary Education' 'Graduate Degree'\n",
      " 'GRADUATE DEGREE' 'graduate degree']\n"
     ]
    }
   ],
   "source": [
    "# Veamos todos los valores en la columna de educación para verificar si será necesario corregir la ortografía y qué habrá que corregir exactamente\n",
    "valores_educacion = credit_scoring['education'].unique()\n",
    "print(valores_educacion)\n"
   ]
  },
  {
   "cell_type": "code",
   "execution_count": 14,
   "metadata": {
    "scrolled": true
   },
   "outputs": [],
   "source": [
    "# Arregla los registros si es necesario\n",
    "correcciones_educacion = {\n",
    "    \"secondary education\": \"Secondary Education\",\n",
    "    \"SECONDARY EDUCATION\": \"Secondary Education\",\n",
    "    \"bachelor's degree\": \"Bachelor's Degree\",\n",
    "    \"BACHELOR'S DEGREE\": \"Bachelor's Degree\",\n",
    "    \"some college\": \"Some College\",\n",
    "    \"primary education\": \"Primary Education\",\n",
    "    \"SOME COLLEGE\": \"Some College\",\n",
    "    \"PRIMARY EDUCATION\": \"Primary Education\",\n",
    "    \"Graduate Degree\": \"Graduate Degree\",\n",
    "    \"GRADUATE DEGREE\": \"Graduate Degree\",\n",
    "}\n",
    "\n",
    "credit_scoring['education'] = credit_scoring['education'].replace(correcciones_educacion)\n"
   ]
  },
  {
   "cell_type": "code",
   "execution_count": 15,
   "metadata": {},
   "outputs": [
    {
     "name": "stdout",
     "output_type": "stream",
     "text": [
      "[\"Bachelor's Degree\" 'Secondary Education' 'Some College'\n",
      " 'Primary Education' 'Graduate Degree' 'graduate degree']\n"
     ]
    }
   ],
   "source": [
    "# Comprobar todos los valores en la columna para asegurarnos de que los hayamos corregido\n",
    "print(credit_scoring['education'].unique())\n"
   ]
  },
  {
   "cell_type": "markdown",
   "metadata": {},
   "source": [
    "[Comprueba los datos de la columna `children`]"
   ]
  },
  {
   "cell_type": "code",
   "execution_count": 16,
   "metadata": {},
   "outputs": [
    {
     "name": "stdout",
     "output_type": "stream",
     "text": [
      " 0     14149\n",
      " 1      4818\n",
      " 2      2055\n",
      " 3       330\n",
      " 20       76\n",
      "-1        47\n",
      " 4        41\n",
      " 5         9\n",
      "Name: children, dtype: int64\n"
     ]
    }
   ],
   "source": [
    "# Veamos la distribución de los valores en la columna `children`\n",
    "distribucion_children = credit_scoring['children'].value_counts()\n",
    "print(distribucion_children)\n"
   ]
  },
  {
   "attachments": {},
   "cell_type": "markdown",
   "metadata": {},
   "source": [
    "\n",
    "Hay valores negativos (\"-1\") y un valor de \"20\" en la columna \"children\". Estos valores parecen ser atípicos y pueden ser el resultado de errores o problemas en los datos.\n",
    "\n",
    "La frecuencia de los valores negativos y el valor de \"20\" es relativamente baja en comparación con los valores más comunes de \"0\", \"1\" y \"2\". Sin embargo, aún representan un porcentaje significativo de los datos problemáticos en esta columna."
   ]
  },
  {
   "cell_type": "code",
   "execution_count": 17,
   "metadata": {},
   "outputs": [
    {
     "name": "stdout",
     "output_type": "stream",
     "text": [
      "       family_status  children  count\n",
      "0  civil partnership        -1      5\n",
      "1  civil partnership        20     12\n",
      "2           divorced        -1      4\n",
      "3           divorced        20      2\n",
      "4            married        -1     29\n",
      "5            married        20     49\n",
      "6          unmarried        -1      5\n",
      "7          unmarried        20      9\n",
      "8    widow / widower        -1      4\n",
      "9    widow / widower        20      4\n"
     ]
    }
   ],
   "source": [
    "datos_problematicos = credit_scoring[(credit_scoring['children'] == -1) | (credit_scoring['children'] == 20)]\n",
    "datos_problematicos\n",
    "tabla_relacion_family_children = datos_problematicos.groupby(['family_status', 'children']).size().reset_index(name='count')\n",
    "\n",
    "print(tabla_relacion_family_children)# Podemos observar que hubo un erorr al ingresar los datos, remplazare los -1 y los 20 a 0[arregla los datos según tu decisión]\n",
    "\n",
    "\n",
    "#Remplazare los datos incorrectos con 0\n",
    "# Reemplazar los datos incorrectos (-1 y 20) en la columna \"children\" con 0\n",
    "credit_scoring['children'] = credit_scoring['children'].replace([-1, 20], 0)\n"
   ]
  },
  {
   "cell_type": "code",
   "execution_count": 18,
   "metadata": {},
   "outputs": [
    {
     "name": "stdout",
     "output_type": "stream",
     "text": [
      "0    14272\n",
      "1     4818\n",
      "2     2055\n",
      "3      330\n",
      "4       41\n",
      "5        9\n",
      "Name: children, dtype: int64\n"
     ]
    }
   ],
   "source": [
    "# Comprobar la columna `children` de nuevo para asegurarnos de que todo está arreglado\n",
    "distribucion_children = credit_scoring['children'].value_counts()\n",
    "print(distribucion_children)\n"
   ]
  },
  {
   "cell_type": "code",
   "execution_count": 19,
   "metadata": {},
   "outputs": [
    {
     "name": "stdout",
     "output_type": "stream",
     "text": [
      "Porcentaje de datos problemáticos en 'days_employed': 73.90%\n",
      "\n"
     ]
    },
    {
     "data": {
      "text/html": [
       "<div>\n",
       "<style scoped>\n",
       "    .dataframe tbody tr th:only-of-type {\n",
       "        vertical-align: middle;\n",
       "    }\n",
       "\n",
       "    .dataframe tbody tr th {\n",
       "        vertical-align: top;\n",
       "    }\n",
       "\n",
       "    .dataframe thead th {\n",
       "        text-align: right;\n",
       "    }\n",
       "</style>\n",
       "<table border=\"1\" class=\"dataframe\">\n",
       "  <thead>\n",
       "    <tr style=\"text-align: right;\">\n",
       "      <th></th>\n",
       "      <th>children</th>\n",
       "      <th>days_employed</th>\n",
       "      <th>dob_years</th>\n",
       "      <th>education</th>\n",
       "      <th>education_id</th>\n",
       "      <th>family_status</th>\n",
       "      <th>family_status_id</th>\n",
       "      <th>gender</th>\n",
       "      <th>income_type</th>\n",
       "      <th>debt</th>\n",
       "      <th>total_income</th>\n",
       "      <th>purpose</th>\n",
       "    </tr>\n",
       "  </thead>\n",
       "  <tbody>\n",
       "    <tr>\n",
       "      <th>0</th>\n",
       "      <td>1</td>\n",
       "      <td>-8437.673028</td>\n",
       "      <td>42</td>\n",
       "      <td>Bachelor's Degree</td>\n",
       "      <td>0</td>\n",
       "      <td>married</td>\n",
       "      <td>0</td>\n",
       "      <td>F</td>\n",
       "      <td>employee</td>\n",
       "      <td>0</td>\n",
       "      <td>40620.102</td>\n",
       "      <td>purchase of the house</td>\n",
       "    </tr>\n",
       "    <tr>\n",
       "      <th>1</th>\n",
       "      <td>1</td>\n",
       "      <td>-4024.803754</td>\n",
       "      <td>36</td>\n",
       "      <td>Secondary Education</td>\n",
       "      <td>1</td>\n",
       "      <td>married</td>\n",
       "      <td>0</td>\n",
       "      <td>F</td>\n",
       "      <td>employee</td>\n",
       "      <td>0</td>\n",
       "      <td>17932.802</td>\n",
       "      <td>car purchase</td>\n",
       "    </tr>\n",
       "    <tr>\n",
       "      <th>2</th>\n",
       "      <td>0</td>\n",
       "      <td>-5623.422610</td>\n",
       "      <td>33</td>\n",
       "      <td>Secondary Education</td>\n",
       "      <td>1</td>\n",
       "      <td>married</td>\n",
       "      <td>0</td>\n",
       "      <td>M</td>\n",
       "      <td>employee</td>\n",
       "      <td>0</td>\n",
       "      <td>23341.752</td>\n",
       "      <td>purchase of the house</td>\n",
       "    </tr>\n",
       "    <tr>\n",
       "      <th>3</th>\n",
       "      <td>3</td>\n",
       "      <td>-4124.747207</td>\n",
       "      <td>32</td>\n",
       "      <td>Secondary Education</td>\n",
       "      <td>1</td>\n",
       "      <td>married</td>\n",
       "      <td>0</td>\n",
       "      <td>M</td>\n",
       "      <td>employee</td>\n",
       "      <td>0</td>\n",
       "      <td>42820.568</td>\n",
       "      <td>supplementary education</td>\n",
       "    </tr>\n",
       "    <tr>\n",
       "      <th>5</th>\n",
       "      <td>0</td>\n",
       "      <td>-926.185831</td>\n",
       "      <td>27</td>\n",
       "      <td>Bachelor's Degree</td>\n",
       "      <td>0</td>\n",
       "      <td>civil partnership</td>\n",
       "      <td>1</td>\n",
       "      <td>M</td>\n",
       "      <td>business</td>\n",
       "      <td>0</td>\n",
       "      <td>40922.170</td>\n",
       "      <td>purchase of the house</td>\n",
       "    </tr>\n",
       "    <tr>\n",
       "      <th>...</th>\n",
       "      <td>...</td>\n",
       "      <td>...</td>\n",
       "      <td>...</td>\n",
       "      <td>...</td>\n",
       "      <td>...</td>\n",
       "      <td>...</td>\n",
       "      <td>...</td>\n",
       "      <td>...</td>\n",
       "      <td>...</td>\n",
       "      <td>...</td>\n",
       "      <td>...</td>\n",
       "      <td>...</td>\n",
       "    </tr>\n",
       "    <tr>\n",
       "      <th>21519</th>\n",
       "      <td>1</td>\n",
       "      <td>-2351.431934</td>\n",
       "      <td>37</td>\n",
       "      <td>graduate degree</td>\n",
       "      <td>4</td>\n",
       "      <td>divorced</td>\n",
       "      <td>3</td>\n",
       "      <td>M</td>\n",
       "      <td>employee</td>\n",
       "      <td>0</td>\n",
       "      <td>18551.846</td>\n",
       "      <td>buy commercial real estate</td>\n",
       "    </tr>\n",
       "    <tr>\n",
       "      <th>21520</th>\n",
       "      <td>1</td>\n",
       "      <td>-4529.316663</td>\n",
       "      <td>43</td>\n",
       "      <td>Secondary Education</td>\n",
       "      <td>1</td>\n",
       "      <td>civil partnership</td>\n",
       "      <td>1</td>\n",
       "      <td>F</td>\n",
       "      <td>business</td>\n",
       "      <td>0</td>\n",
       "      <td>35966.698</td>\n",
       "      <td>housing transactions</td>\n",
       "    </tr>\n",
       "    <tr>\n",
       "      <th>21522</th>\n",
       "      <td>1</td>\n",
       "      <td>-2113.346888</td>\n",
       "      <td>38</td>\n",
       "      <td>Secondary Education</td>\n",
       "      <td>1</td>\n",
       "      <td>civil partnership</td>\n",
       "      <td>1</td>\n",
       "      <td>M</td>\n",
       "      <td>employee</td>\n",
       "      <td>1</td>\n",
       "      <td>14347.610</td>\n",
       "      <td>property</td>\n",
       "    </tr>\n",
       "    <tr>\n",
       "      <th>21523</th>\n",
       "      <td>3</td>\n",
       "      <td>-3112.481705</td>\n",
       "      <td>38</td>\n",
       "      <td>Secondary Education</td>\n",
       "      <td>1</td>\n",
       "      <td>married</td>\n",
       "      <td>0</td>\n",
       "      <td>M</td>\n",
       "      <td>employee</td>\n",
       "      <td>1</td>\n",
       "      <td>39054.888</td>\n",
       "      <td>buying my own car</td>\n",
       "    </tr>\n",
       "    <tr>\n",
       "      <th>21524</th>\n",
       "      <td>2</td>\n",
       "      <td>-1984.507589</td>\n",
       "      <td>40</td>\n",
       "      <td>Secondary Education</td>\n",
       "      <td>1</td>\n",
       "      <td>married</td>\n",
       "      <td>0</td>\n",
       "      <td>F</td>\n",
       "      <td>employee</td>\n",
       "      <td>0</td>\n",
       "      <td>13127.587</td>\n",
       "      <td>to buy a car</td>\n",
       "    </tr>\n",
       "  </tbody>\n",
       "</table>\n",
       "<p>15906 rows × 12 columns</p>\n",
       "</div>"
      ],
      "text/plain": [
       "       children  days_employed  dob_years            education  education_id  \\\n",
       "0             1   -8437.673028         42    Bachelor's Degree             0   \n",
       "1             1   -4024.803754         36  Secondary Education             1   \n",
       "2             0   -5623.422610         33  Secondary Education             1   \n",
       "3             3   -4124.747207         32  Secondary Education             1   \n",
       "5             0    -926.185831         27    Bachelor's Degree             0   \n",
       "...         ...            ...        ...                  ...           ...   \n",
       "21519         1   -2351.431934         37      graduate degree             4   \n",
       "21520         1   -4529.316663         43  Secondary Education             1   \n",
       "21522         1   -2113.346888         38  Secondary Education             1   \n",
       "21523         3   -3112.481705         38  Secondary Education             1   \n",
       "21524         2   -1984.507589         40  Secondary Education             1   \n",
       "\n",
       "           family_status  family_status_id gender income_type  debt  \\\n",
       "0                married                 0      F    employee     0   \n",
       "1                married                 0      F    employee     0   \n",
       "2                married                 0      M    employee     0   \n",
       "3                married                 0      M    employee     0   \n",
       "5      civil partnership                 1      M    business     0   \n",
       "...                  ...               ...    ...         ...   ...   \n",
       "21519           divorced                 3      M    employee     0   \n",
       "21520  civil partnership                 1      F    business     0   \n",
       "21522  civil partnership                 1      M    employee     1   \n",
       "21523            married                 0      M    employee     1   \n",
       "21524            married                 0      F    employee     0   \n",
       "\n",
       "       total_income                     purpose  \n",
       "0         40620.102       purchase of the house  \n",
       "1         17932.802                car purchase  \n",
       "2         23341.752       purchase of the house  \n",
       "3         42820.568     supplementary education  \n",
       "5         40922.170       purchase of the house  \n",
       "...             ...                         ...  \n",
       "21519     18551.846  buy commercial real estate  \n",
       "21520     35966.698        housing transactions  \n",
       "21522     14347.610                    property  \n",
       "21523     39054.888           buying my own car  \n",
       "21524     13127.587                to buy a car  \n",
       "\n",
       "[15906 rows x 12 columns]"
      ]
     },
     "execution_count": 19,
     "metadata": {},
     "output_type": "execute_result"
    }
   ],
   "source": [
    "# Encuentra datos problemáticos en `days_employed`, si existen, y calcula el porcentaje\n",
    "\n",
    "datos_problematicos_days_employed = credit_scoring[credit_scoring['days_employed'] < 0]\n",
    "\n",
    "# Calcular el porcentaje de datos problemáticos\n",
    "porcentaje_datos_problematicos = len(datos_problematicos_days_employed) / len(credit_scoring) * 100\n",
    "\n",
    "print(\"Porcentaje de datos problemáticos en 'days_employed': {:.2f}%\".format(porcentaje_datos_problematicos))\n",
    "print()\n",
    "datos_problematicos_days_employed\n",
    "\n"
   ]
  },
  {
   "attachments": {},
   "cell_type": "markdown",
   "metadata": {},
   "source": [
    "Considero que los dias de trabajo se typearon mal por que hay 75% de datos incorrectos, asi que yo creo que se les paso el - en sus respuestas, procedere a quitarles eel signo - a los datos"
   ]
  },
  {
   "cell_type": "code",
   "execution_count": 20,
   "metadata": {},
   "outputs": [],
   "source": [
    "# Convertir los valores negativos a positivos en la columna \"days_employed\"\n",
    "credit_scoring['days_employed'] = credit_scoring['days_employed'].abs()\n",
    "\n"
   ]
  },
  {
   "cell_type": "code",
   "execution_count": 21,
   "metadata": {},
   "outputs": [
    {
     "name": "stdout",
     "output_type": "stream",
     "text": [
      "El número de valores exageradamente grandes en la columna 'days_employed' es: 3445\n",
      "El número de valores exageradamente grandes en la columna 'days_employed' es: 3445\n"
     ]
    }
   ],
   "source": [
    "# Comprueba el resultado - asegúrate de que esté arreglado\n",
    "datos_problematicos_days_employed = credit_scoring[credit_scoring['days_employed'] < 0]\n",
    "\n",
    "datos_problematicos_days_employed\n",
    "\n",
    "# Establecer el umbral para considerar valores exageradamente grandes en days_employed\n",
    "umbral_exagerado_days_employed = 100000\n",
    "\n",
    "# Contar cuántos valores exageradamente grandes hay en la columna 'days_employed'\n",
    "valores_exagerados_days_employed = credit_scoring[credit_scoring['days_employed'] > umbral_exagerado_days_employed].shape[0]\n",
    "\n",
    "print(f\"El número de valores exageradamente grandes en la columna 'days_employed' es: {valores_exagerados_days_employed}\")\n",
    "\n",
    "#Analizaremos cual es la media y la mediana \n",
    "# Calcular la media de 'days_employed' excluyendo los valores exageradamente grandes\n",
    "#media_days_employed = credit_scoring[credit_scoring['days_employed'] <= umbral_exagerado_days_employed]['days_employed'].mean()\n",
    "\n",
    "# Calcular la mediana de 'days_employed' excluyendo los valores exageradamente grandes\n",
    "#mediana_days_employed = credit_scoring[credit_scoring['days_employed'] <= umbral_exagerado_days_employed]['days_employed'].median()\n",
    "\n",
    "#print(f\"Media de 'days_employed': {media_days_employed}\")\n",
    "#print(f\"Mediana de 'days_employed': {mediana_days_employed}\")\n",
    "# Reemplazar los valores exageradamente grandes en 'days_employed' con valores nulos\n",
    "credit_scoring.loc[credit_scoring['days_employed'] > umbral_exagerado_days_employed, 'days_employed'] = np.nan\n",
    "\n",
    "print(f\"El número de valores exageradamente grandes en la columna 'days_employed' es: {valores_exagerados_days_employed}\")\n",
    "\n",
    "#Exito, tabla vacia"
   ]
  },
  {
   "cell_type": "markdown",
   "metadata": {},
   "source": [
    "<div class=\"alert alert-block alert-info\">\n",
    "<b>Procedo a corregir mi codigo para no solo abarcar numeros negativos, si no numeros excesivamente grandes.</b> <a class=\"tocSkip\"></a>\n",
    "</div>\n"
   ]
  },
  {
   "cell_type": "markdown",
   "metadata": {},
   "source": [
    "<div class=\"alert alert-block alert-info\">\n",
    "<b>Procedo a corregir mi codigo para no solo abarcar numeros negativos, si no numeros excesivamente grandes remplazadonlos por valores nulos como tu me recomendaste. #Uso numpy</b> <a class=\"tocSkip\"></a>\n",
    "</div>\n"
   ]
  },
  {
   "attachments": {},
   "cell_type": "markdown",
   "metadata": {},
   "source": [
    "Ahora echemos un vistazo a la edad de clientes para ver si hay algún problema allí. Una vez más, piensa qué datos pueden ser extraños en esta columna, es decir, qué dato no puede ser la edad de alguien."
   ]
  },
  {
   "cell_type": "code",
   "execution_count": 22,
   "metadata": {
    "scrolled": true
   },
   "outputs": [
    {
     "name": "stdout",
     "output_type": "stream",
     "text": [
      "Porcentaje de valores sospechosos en 'dob_years': 0.47%\n",
      "\n",
      "\n"
     ]
    },
    {
     "data": {
      "text/html": [
       "<div>\n",
       "<style scoped>\n",
       "    .dataframe tbody tr th:only-of-type {\n",
       "        vertical-align: middle;\n",
       "    }\n",
       "\n",
       "    .dataframe tbody tr th {\n",
       "        vertical-align: top;\n",
       "    }\n",
       "\n",
       "    .dataframe thead th {\n",
       "        text-align: right;\n",
       "    }\n",
       "</style>\n",
       "<table border=\"1\" class=\"dataframe\">\n",
       "  <thead>\n",
       "    <tr style=\"text-align: right;\">\n",
       "      <th></th>\n",
       "      <th>children</th>\n",
       "      <th>days_employed</th>\n",
       "      <th>dob_years</th>\n",
       "      <th>education</th>\n",
       "      <th>education_id</th>\n",
       "      <th>family_status</th>\n",
       "      <th>family_status_id</th>\n",
       "      <th>gender</th>\n",
       "      <th>income_type</th>\n",
       "      <th>debt</th>\n",
       "      <th>total_income</th>\n",
       "      <th>purpose</th>\n",
       "    </tr>\n",
       "  </thead>\n",
       "  <tbody>\n",
       "    <tr>\n",
       "      <th>99</th>\n",
       "      <td>0</td>\n",
       "      <td>NaN</td>\n",
       "      <td>0</td>\n",
       "      <td>Secondary Education</td>\n",
       "      <td>1</td>\n",
       "      <td>married</td>\n",
       "      <td>0</td>\n",
       "      <td>F</td>\n",
       "      <td>retiree</td>\n",
       "      <td>0</td>\n",
       "      <td>11406.644</td>\n",
       "      <td>car</td>\n",
       "    </tr>\n",
       "    <tr>\n",
       "      <th>149</th>\n",
       "      <td>0</td>\n",
       "      <td>2664.273168</td>\n",
       "      <td>0</td>\n",
       "      <td>Secondary Education</td>\n",
       "      <td>1</td>\n",
       "      <td>divorced</td>\n",
       "      <td>3</td>\n",
       "      <td>F</td>\n",
       "      <td>employee</td>\n",
       "      <td>0</td>\n",
       "      <td>11228.230</td>\n",
       "      <td>housing transactions</td>\n",
       "    </tr>\n",
       "    <tr>\n",
       "      <th>270</th>\n",
       "      <td>3</td>\n",
       "      <td>1872.663186</td>\n",
       "      <td>0</td>\n",
       "      <td>Secondary Education</td>\n",
       "      <td>1</td>\n",
       "      <td>married</td>\n",
       "      <td>0</td>\n",
       "      <td>F</td>\n",
       "      <td>employee</td>\n",
       "      <td>0</td>\n",
       "      <td>16346.633</td>\n",
       "      <td>housing renovation</td>\n",
       "    </tr>\n",
       "    <tr>\n",
       "      <th>578</th>\n",
       "      <td>0</td>\n",
       "      <td>NaN</td>\n",
       "      <td>0</td>\n",
       "      <td>Secondary Education</td>\n",
       "      <td>1</td>\n",
       "      <td>married</td>\n",
       "      <td>0</td>\n",
       "      <td>F</td>\n",
       "      <td>retiree</td>\n",
       "      <td>0</td>\n",
       "      <td>15619.310</td>\n",
       "      <td>construction of own property</td>\n",
       "    </tr>\n",
       "    <tr>\n",
       "      <th>1040</th>\n",
       "      <td>0</td>\n",
       "      <td>1158.029561</td>\n",
       "      <td>0</td>\n",
       "      <td>Bachelor's Degree</td>\n",
       "      <td>0</td>\n",
       "      <td>divorced</td>\n",
       "      <td>3</td>\n",
       "      <td>F</td>\n",
       "      <td>business</td>\n",
       "      <td>0</td>\n",
       "      <td>48639.062</td>\n",
       "      <td>to own a car</td>\n",
       "    </tr>\n",
       "    <tr>\n",
       "      <th>...</th>\n",
       "      <td>...</td>\n",
       "      <td>...</td>\n",
       "      <td>...</td>\n",
       "      <td>...</td>\n",
       "      <td>...</td>\n",
       "      <td>...</td>\n",
       "      <td>...</td>\n",
       "      <td>...</td>\n",
       "      <td>...</td>\n",
       "      <td>...</td>\n",
       "      <td>...</td>\n",
       "      <td>...</td>\n",
       "    </tr>\n",
       "    <tr>\n",
       "      <th>19829</th>\n",
       "      <td>0</td>\n",
       "      <td>NaN</td>\n",
       "      <td>0</td>\n",
       "      <td>Secondary Education</td>\n",
       "      <td>1</td>\n",
       "      <td>married</td>\n",
       "      <td>0</td>\n",
       "      <td>F</td>\n",
       "      <td>employee</td>\n",
       "      <td>0</td>\n",
       "      <td>NaN</td>\n",
       "      <td>housing</td>\n",
       "    </tr>\n",
       "    <tr>\n",
       "      <th>20462</th>\n",
       "      <td>0</td>\n",
       "      <td>NaN</td>\n",
       "      <td>0</td>\n",
       "      <td>Secondary Education</td>\n",
       "      <td>1</td>\n",
       "      <td>married</td>\n",
       "      <td>0</td>\n",
       "      <td>F</td>\n",
       "      <td>retiree</td>\n",
       "      <td>0</td>\n",
       "      <td>41471.027</td>\n",
       "      <td>purchase of my own house</td>\n",
       "    </tr>\n",
       "    <tr>\n",
       "      <th>20577</th>\n",
       "      <td>0</td>\n",
       "      <td>NaN</td>\n",
       "      <td>0</td>\n",
       "      <td>Secondary Education</td>\n",
       "      <td>1</td>\n",
       "      <td>unmarried</td>\n",
       "      <td>4</td>\n",
       "      <td>F</td>\n",
       "      <td>retiree</td>\n",
       "      <td>0</td>\n",
       "      <td>20766.202</td>\n",
       "      <td>property</td>\n",
       "    </tr>\n",
       "    <tr>\n",
       "      <th>21179</th>\n",
       "      <td>2</td>\n",
       "      <td>108.967042</td>\n",
       "      <td>0</td>\n",
       "      <td>Bachelor's Degree</td>\n",
       "      <td>0</td>\n",
       "      <td>married</td>\n",
       "      <td>0</td>\n",
       "      <td>M</td>\n",
       "      <td>business</td>\n",
       "      <td>0</td>\n",
       "      <td>38512.321</td>\n",
       "      <td>building a real estate</td>\n",
       "    </tr>\n",
       "    <tr>\n",
       "      <th>21313</th>\n",
       "      <td>0</td>\n",
       "      <td>1268.487728</td>\n",
       "      <td>0</td>\n",
       "      <td>Secondary Education</td>\n",
       "      <td>1</td>\n",
       "      <td>unmarried</td>\n",
       "      <td>4</td>\n",
       "      <td>M</td>\n",
       "      <td>employee</td>\n",
       "      <td>0</td>\n",
       "      <td>24387.070</td>\n",
       "      <td>housing transactions</td>\n",
       "    </tr>\n",
       "  </tbody>\n",
       "</table>\n",
       "<p>101 rows × 12 columns</p>\n",
       "</div>"
      ],
      "text/plain": [
       "       children  days_employed  dob_years            education  education_id  \\\n",
       "99            0            NaN          0  Secondary Education             1   \n",
       "149           0    2664.273168          0  Secondary Education             1   \n",
       "270           3    1872.663186          0  Secondary Education             1   \n",
       "578           0            NaN          0  Secondary Education             1   \n",
       "1040          0    1158.029561          0    Bachelor's Degree             0   \n",
       "...         ...            ...        ...                  ...           ...   \n",
       "19829         0            NaN          0  Secondary Education             1   \n",
       "20462         0            NaN          0  Secondary Education             1   \n",
       "20577         0            NaN          0  Secondary Education             1   \n",
       "21179         2     108.967042          0    Bachelor's Degree             0   \n",
       "21313         0    1268.487728          0  Secondary Education             1   \n",
       "\n",
       "      family_status  family_status_id gender income_type  debt  total_income  \\\n",
       "99          married                 0      F     retiree     0     11406.644   \n",
       "149        divorced                 3      F    employee     0     11228.230   \n",
       "270         married                 0      F    employee     0     16346.633   \n",
       "578         married                 0      F     retiree     0     15619.310   \n",
       "1040       divorced                 3      F    business     0     48639.062   \n",
       "...             ...               ...    ...         ...   ...           ...   \n",
       "19829       married                 0      F    employee     0           NaN   \n",
       "20462       married                 0      F     retiree     0     41471.027   \n",
       "20577     unmarried                 4      F     retiree     0     20766.202   \n",
       "21179       married                 0      M    business     0     38512.321   \n",
       "21313     unmarried                 4      M    employee     0     24387.070   \n",
       "\n",
       "                            purpose  \n",
       "99                              car  \n",
       "149            housing transactions  \n",
       "270              housing renovation  \n",
       "578    construction of own property  \n",
       "1040                   to own a car  \n",
       "...                             ...  \n",
       "19829                       housing  \n",
       "20462      purchase of my own house  \n",
       "20577                      property  \n",
       "21179        building a real estate  \n",
       "21313          housing transactions  \n",
       "\n",
       "[101 rows x 12 columns]"
      ]
     },
     "execution_count": 22,
     "metadata": {},
     "output_type": "execute_result"
    }
   ],
   "source": [
    "# Revisa `dob_years` en busca de valores sospechosos y cuenta el porcentaje\n",
    "# Filtrar valores sospechosos en la columna \"dob_years\" (edades negativas o igual a cero)\n",
    "datos_sospechosos_dob_years = credit_scoring[(credit_scoring['dob_years'] <= 0)]\n",
    "\n",
    "# Calcular el porcentaje de valores sospechosos\n",
    "porcentaje_datos_sospechosos = len(datos_sospechosos_dob_years) / len(credit_scoring) * 100\n",
    "\n",
    "print(\"Porcentaje de valores sospechosos en 'dob_years': {:.2f}%\".format(porcentaje_datos_sospechosos))\n",
    "\n",
    "\n",
    "print() \n",
    "# Obtener valores únicos de las edades sospechosas\n",
    "valores_sospechosos_dob_years = datos_sospechosos_dob_years['dob_years'].unique()\n",
    "\n",
    "# Crear una tabla con los valores sospechosos de \"dob_years\"\n",
    "tabla_valores_sospechosos = pd.DataFrame({'Edades Sospechosas': valores_sospechosos_dob_years})\n",
    "\n",
    "tabla_valores_sospechosos\n",
    "\n",
    "print()\n",
    "datos_sospechosos_dob_years"
   ]
  },
  {
   "attachments": {},
   "cell_type": "markdown",
   "metadata": {},
   "source": [
    "Remplazare las edades 0 con la media de de los datos"
   ]
  },
  {
   "cell_type": "code",
   "execution_count": 23,
   "metadata": {},
   "outputs": [],
   "source": [
    "# Resuelve los problemas en la columna `dob_years`, si existen\n",
    "edad_media = credit_scoring[credit_scoring['dob_years'] > 0]['dob_years'].mean()\n",
    "#Remplazando\n",
    "credit_scoring.loc[credit_scoring['dob_years'] == 0, 'dob_years'] = edad_media"
   ]
  },
  {
   "cell_type": "code",
   "execution_count": 24,
   "metadata": {},
   "outputs": [
    {
     "data": {
      "text/html": [
       "<div>\n",
       "<style scoped>\n",
       "    .dataframe tbody tr th:only-of-type {\n",
       "        vertical-align: middle;\n",
       "    }\n",
       "\n",
       "    .dataframe tbody tr th {\n",
       "        vertical-align: top;\n",
       "    }\n",
       "\n",
       "    .dataframe thead th {\n",
       "        text-align: right;\n",
       "    }\n",
       "</style>\n",
       "<table border=\"1\" class=\"dataframe\">\n",
       "  <thead>\n",
       "    <tr style=\"text-align: right;\">\n",
       "      <th></th>\n",
       "      <th>children</th>\n",
       "      <th>days_employed</th>\n",
       "      <th>dob_years</th>\n",
       "      <th>education</th>\n",
       "      <th>education_id</th>\n",
       "      <th>family_status</th>\n",
       "      <th>family_status_id</th>\n",
       "      <th>gender</th>\n",
       "      <th>income_type</th>\n",
       "      <th>debt</th>\n",
       "      <th>total_income</th>\n",
       "      <th>purpose</th>\n",
       "    </tr>\n",
       "  </thead>\n",
       "  <tbody>\n",
       "  </tbody>\n",
       "</table>\n",
       "</div>"
      ],
      "text/plain": [
       "Empty DataFrame\n",
       "Columns: [children, days_employed, dob_years, education, education_id, family_status, family_status_id, gender, income_type, debt, total_income, purpose]\n",
       "Index: []"
      ]
     },
     "execution_count": 24,
     "metadata": {},
     "output_type": "execute_result"
    }
   ],
   "source": [
    "# Comprueba el resultado - asegúrate de que esté arreglado\n",
    "datos_sospechosos_dob_years = credit_scoring[(credit_scoring['dob_years'] <= 0)]\n",
    "datos_sospechosos_dob_years"
   ]
  },
  {
   "cell_type": "code",
   "execution_count": 25,
   "metadata": {},
   "outputs": [
    {
     "data": {
      "text/plain": [
       "married              12380\n",
       "civil partnership     4177\n",
       "unmarried             2813\n",
       "divorced              1195\n",
       "widow / widower        960\n",
       "Name: family_status, dtype: int64"
      ]
     },
     "execution_count": 25,
     "metadata": {},
     "output_type": "execute_result"
    }
   ],
   "source": [
    "# Veamos los valores de la columna\n",
    "frecuencia_family_status = credit_scoring['family_status'].value_counts()\n",
    "\n",
    "frecuencia_family_status\n",
    "\n",
    "#No hay valores atipicos.\n"
   ]
  },
  {
   "cell_type": "code",
   "execution_count": 28,
   "metadata": {},
   "outputs": [
    {
     "data": {
      "text/plain": [
       "F      14236\n",
       "M       7288\n",
       "XNA        1\n",
       "Name: gender, dtype: int64"
      ]
     },
     "execution_count": 28,
     "metadata": {},
     "output_type": "execute_result"
    }
   ],
   "source": [
    "# Veamos los valores en la columna\n",
    "frecuencia_gender = credit_scoring['gender'].value_counts()\n",
    "\n",
    "frecuencia_gender"
   ]
  },
  {
   "cell_type": "code",
   "execution_count": 29,
   "metadata": {},
   "outputs": [
    {
     "data": {
      "text/html": [
       "<div>\n",
       "<style scoped>\n",
       "    .dataframe tbody tr th:only-of-type {\n",
       "        vertical-align: middle;\n",
       "    }\n",
       "\n",
       "    .dataframe tbody tr th {\n",
       "        vertical-align: top;\n",
       "    }\n",
       "\n",
       "    .dataframe thead th {\n",
       "        text-align: right;\n",
       "    }\n",
       "</style>\n",
       "<table border=\"1\" class=\"dataframe\">\n",
       "  <thead>\n",
       "    <tr style=\"text-align: right;\">\n",
       "      <th></th>\n",
       "      <th>children</th>\n",
       "      <th>days_employed</th>\n",
       "      <th>dob_years</th>\n",
       "      <th>education</th>\n",
       "      <th>education_id</th>\n",
       "      <th>family_status</th>\n",
       "      <th>family_status_id</th>\n",
       "      <th>gender</th>\n",
       "      <th>income_type</th>\n",
       "      <th>debt</th>\n",
       "      <th>total_income</th>\n",
       "      <th>purpose</th>\n",
       "    </tr>\n",
       "  </thead>\n",
       "  <tbody>\n",
       "    <tr>\n",
       "      <th>10701</th>\n",
       "      <td>0</td>\n",
       "      <td>2358.600502</td>\n",
       "      <td>24.0</td>\n",
       "      <td>Some College</td>\n",
       "      <td>2</td>\n",
       "      <td>civil partnership</td>\n",
       "      <td>1</td>\n",
       "      <td>XNA</td>\n",
       "      <td>business</td>\n",
       "      <td>0</td>\n",
       "      <td>32624.825</td>\n",
       "      <td>buy real estate</td>\n",
       "    </tr>\n",
       "  </tbody>\n",
       "</table>\n",
       "</div>"
      ],
      "text/plain": [
       "       children  days_employed  dob_years     education  education_id  \\\n",
       "10701         0    2358.600502       24.0  Some College             2   \n",
       "\n",
       "           family_status  family_status_id gender income_type  debt  \\\n",
       "10701  civil partnership                 1    XNA    business     0   \n",
       "\n",
       "       total_income          purpose  \n",
       "10701     32624.825  buy real estate  "
      ]
     },
     "execution_count": 29,
     "metadata": {},
     "output_type": "execute_result"
    }
   ],
   "source": [
    "# Aborda los valores problemáticos, si existen\n",
    "#solo hay un valor atipico de xna, procedere a ver la fila, y analizar \n",
    "fila_xna = credit_scoring.loc[credit_scoring['gender'] == 'XNA']\n",
    "\n",
    "fila_xna\n"
   ]
  },
  {
   "cell_type": "code",
   "execution_count": 30,
   "metadata": {},
   "outputs": [
    {
     "data": {
      "text/plain": [
       "F    14236\n",
       "M     7288\n",
       "Name: gender, dtype: int64"
      ]
     },
     "execution_count": 30,
     "metadata": {},
     "output_type": "execute_result"
    }
   ],
   "source": [
    "# Comprueba el resultado - asegúrate de que esté arreglado\n",
    "#La eliminare por que es solo 1 \n",
    "credit_scoring = credit_scoring.drop(credit_scoring[credit_scoring['gender'] == 'XNA'].index)\n",
    "\n",
    "frecuencia_gender = credit_scoring['gender'].value_counts()\n",
    "\n",
    "frecuencia_gender\n",
    "\n"
   ]
  },
  {
   "cell_type": "code",
   "execution_count": 31,
   "metadata": {},
   "outputs": [
    {
     "data": {
      "text/plain": [
       "employee                       11119\n",
       "business                        5084\n",
       "retiree                         3856\n",
       "civil servant                   1459\n",
       "unemployed                         2\n",
       "entrepreneur                       2\n",
       "student                            1\n",
       "paternity / maternity leave        1\n",
       "Name: income_type, dtype: int64"
      ]
     },
     "execution_count": 31,
     "metadata": {},
     "output_type": "execute_result"
    }
   ],
   "source": [
    "# Veamos los valores en la columna\n",
    "frecuencia_income_type = credit_scoring['income_type'].value_counts()\n",
    "\n",
    "frecuencia_income_type\n"
   ]
  },
  {
   "cell_type": "code",
   "execution_count": 34,
   "metadata": {},
   "outputs": [
    {
     "name": "stdout",
     "output_type": "stream",
     "text": [
      "Cantidad de filas duplicadas:  71\n",
      "\n"
     ]
    },
    {
     "data": {
      "text/html": [
       "<div>\n",
       "<style scoped>\n",
       "    .dataframe tbody tr th:only-of-type {\n",
       "        vertical-align: middle;\n",
       "    }\n",
       "\n",
       "    .dataframe tbody tr th {\n",
       "        vertical-align: top;\n",
       "    }\n",
       "\n",
       "    .dataframe thead th {\n",
       "        text-align: right;\n",
       "    }\n",
       "</style>\n",
       "<table border=\"1\" class=\"dataframe\">\n",
       "  <thead>\n",
       "    <tr style=\"text-align: right;\">\n",
       "      <th></th>\n",
       "      <th>children</th>\n",
       "      <th>days_employed</th>\n",
       "      <th>dob_years</th>\n",
       "      <th>education</th>\n",
       "      <th>education_id</th>\n",
       "      <th>family_status</th>\n",
       "      <th>family_status_id</th>\n",
       "      <th>gender</th>\n",
       "      <th>income_type</th>\n",
       "      <th>debt</th>\n",
       "      <th>total_income</th>\n",
       "      <th>purpose</th>\n",
       "    </tr>\n",
       "  </thead>\n",
       "  <tbody>\n",
       "    <tr>\n",
       "      <th>2849</th>\n",
       "      <td>0</td>\n",
       "      <td>NaN</td>\n",
       "      <td>41.0</td>\n",
       "      <td>Secondary Education</td>\n",
       "      <td>1</td>\n",
       "      <td>married</td>\n",
       "      <td>0</td>\n",
       "      <td>F</td>\n",
       "      <td>employee</td>\n",
       "      <td>0</td>\n",
       "      <td>NaN</td>\n",
       "      <td>purchase of the house for my family</td>\n",
       "    </tr>\n",
       "    <tr>\n",
       "      <th>3290</th>\n",
       "      <td>0</td>\n",
       "      <td>NaN</td>\n",
       "      <td>58.0</td>\n",
       "      <td>Secondary Education</td>\n",
       "      <td>1</td>\n",
       "      <td>civil partnership</td>\n",
       "      <td>1</td>\n",
       "      <td>F</td>\n",
       "      <td>retiree</td>\n",
       "      <td>0</td>\n",
       "      <td>NaN</td>\n",
       "      <td>to have a wedding</td>\n",
       "    </tr>\n",
       "    <tr>\n",
       "      <th>4182</th>\n",
       "      <td>1</td>\n",
       "      <td>NaN</td>\n",
       "      <td>34.0</td>\n",
       "      <td>Bachelor's Degree</td>\n",
       "      <td>0</td>\n",
       "      <td>civil partnership</td>\n",
       "      <td>1</td>\n",
       "      <td>F</td>\n",
       "      <td>employee</td>\n",
       "      <td>0</td>\n",
       "      <td>NaN</td>\n",
       "      <td>wedding ceremony</td>\n",
       "    </tr>\n",
       "    <tr>\n",
       "      <th>4851</th>\n",
       "      <td>0</td>\n",
       "      <td>NaN</td>\n",
       "      <td>60.0</td>\n",
       "      <td>Secondary Education</td>\n",
       "      <td>1</td>\n",
       "      <td>civil partnership</td>\n",
       "      <td>1</td>\n",
       "      <td>F</td>\n",
       "      <td>retiree</td>\n",
       "      <td>0</td>\n",
       "      <td>NaN</td>\n",
       "      <td>wedding ceremony</td>\n",
       "    </tr>\n",
       "    <tr>\n",
       "      <th>5557</th>\n",
       "      <td>0</td>\n",
       "      <td>NaN</td>\n",
       "      <td>58.0</td>\n",
       "      <td>Secondary Education</td>\n",
       "      <td>1</td>\n",
       "      <td>civil partnership</td>\n",
       "      <td>1</td>\n",
       "      <td>F</td>\n",
       "      <td>retiree</td>\n",
       "      <td>0</td>\n",
       "      <td>NaN</td>\n",
       "      <td>to have a wedding</td>\n",
       "    </tr>\n",
       "    <tr>\n",
       "      <th>...</th>\n",
       "      <td>...</td>\n",
       "      <td>...</td>\n",
       "      <td>...</td>\n",
       "      <td>...</td>\n",
       "      <td>...</td>\n",
       "      <td>...</td>\n",
       "      <td>...</td>\n",
       "      <td>...</td>\n",
       "      <td>...</td>\n",
       "      <td>...</td>\n",
       "      <td>...</td>\n",
       "      <td>...</td>\n",
       "    </tr>\n",
       "    <tr>\n",
       "      <th>20702</th>\n",
       "      <td>0</td>\n",
       "      <td>NaN</td>\n",
       "      <td>64.0</td>\n",
       "      <td>Secondary Education</td>\n",
       "      <td>1</td>\n",
       "      <td>married</td>\n",
       "      <td>0</td>\n",
       "      <td>F</td>\n",
       "      <td>retiree</td>\n",
       "      <td>0</td>\n",
       "      <td>NaN</td>\n",
       "      <td>supplementary education</td>\n",
       "    </tr>\n",
       "    <tr>\n",
       "      <th>21032</th>\n",
       "      <td>0</td>\n",
       "      <td>NaN</td>\n",
       "      <td>60.0</td>\n",
       "      <td>Secondary Education</td>\n",
       "      <td>1</td>\n",
       "      <td>married</td>\n",
       "      <td>0</td>\n",
       "      <td>F</td>\n",
       "      <td>retiree</td>\n",
       "      <td>0</td>\n",
       "      <td>NaN</td>\n",
       "      <td>to become educated</td>\n",
       "    </tr>\n",
       "    <tr>\n",
       "      <th>21132</th>\n",
       "      <td>0</td>\n",
       "      <td>NaN</td>\n",
       "      <td>47.0</td>\n",
       "      <td>Secondary Education</td>\n",
       "      <td>1</td>\n",
       "      <td>married</td>\n",
       "      <td>0</td>\n",
       "      <td>F</td>\n",
       "      <td>employee</td>\n",
       "      <td>0</td>\n",
       "      <td>NaN</td>\n",
       "      <td>housing renovation</td>\n",
       "    </tr>\n",
       "    <tr>\n",
       "      <th>21281</th>\n",
       "      <td>1</td>\n",
       "      <td>NaN</td>\n",
       "      <td>30.0</td>\n",
       "      <td>Bachelor's Degree</td>\n",
       "      <td>0</td>\n",
       "      <td>married</td>\n",
       "      <td>0</td>\n",
       "      <td>F</td>\n",
       "      <td>employee</td>\n",
       "      <td>0</td>\n",
       "      <td>NaN</td>\n",
       "      <td>buy commercial real estate</td>\n",
       "    </tr>\n",
       "    <tr>\n",
       "      <th>21415</th>\n",
       "      <td>0</td>\n",
       "      <td>NaN</td>\n",
       "      <td>54.0</td>\n",
       "      <td>Secondary Education</td>\n",
       "      <td>1</td>\n",
       "      <td>married</td>\n",
       "      <td>0</td>\n",
       "      <td>F</td>\n",
       "      <td>retiree</td>\n",
       "      <td>0</td>\n",
       "      <td>NaN</td>\n",
       "      <td>housing transactions</td>\n",
       "    </tr>\n",
       "  </tbody>\n",
       "</table>\n",
       "<p>71 rows × 12 columns</p>\n",
       "</div>"
      ],
      "text/plain": [
       "       children  days_employed  dob_years            education  education_id  \\\n",
       "2849          0            NaN       41.0  Secondary Education             1   \n",
       "3290          0            NaN       58.0  Secondary Education             1   \n",
       "4182          1            NaN       34.0    Bachelor's Degree             0   \n",
       "4851          0            NaN       60.0  Secondary Education             1   \n",
       "5557          0            NaN       58.0  Secondary Education             1   \n",
       "...         ...            ...        ...                  ...           ...   \n",
       "20702         0            NaN       64.0  Secondary Education             1   \n",
       "21032         0            NaN       60.0  Secondary Education             1   \n",
       "21132         0            NaN       47.0  Secondary Education             1   \n",
       "21281         1            NaN       30.0    Bachelor's Degree             0   \n",
       "21415         0            NaN       54.0  Secondary Education             1   \n",
       "\n",
       "           family_status  family_status_id gender income_type  debt  \\\n",
       "2849             married                 0      F    employee     0   \n",
       "3290   civil partnership                 1      F     retiree     0   \n",
       "4182   civil partnership                 1      F    employee     0   \n",
       "4851   civil partnership                 1      F     retiree     0   \n",
       "5557   civil partnership                 1      F     retiree     0   \n",
       "...                  ...               ...    ...         ...   ...   \n",
       "20702            married                 0      F     retiree     0   \n",
       "21032            married                 0      F     retiree     0   \n",
       "21132            married                 0      F    employee     0   \n",
       "21281            married                 0      F    employee     0   \n",
       "21415            married                 0      F     retiree     0   \n",
       "\n",
       "       total_income                              purpose  \n",
       "2849            NaN  purchase of the house for my family  \n",
       "3290            NaN                    to have a wedding  \n",
       "4182            NaN                     wedding ceremony  \n",
       "4851            NaN                     wedding ceremony  \n",
       "5557            NaN                    to have a wedding  \n",
       "...             ...                                  ...  \n",
       "20702           NaN              supplementary education  \n",
       "21032           NaN                   to become educated  \n",
       "21132           NaN                   housing renovation  \n",
       "21281           NaN           buy commercial real estate  \n",
       "21415           NaN                 housing transactions  \n",
       "\n",
       "[71 rows x 12 columns]"
      ]
     },
     "execution_count": 34,
     "metadata": {},
     "output_type": "execute_result"
    }
   ],
   "source": [
    "# Comprobar los duplicados\n",
    "hay_duplicados = credit_scoring.duplicated()\n",
    "\n",
    "\n",
    "cantidad_duplicados = hay_duplicados.sum()\n",
    "\n",
    "print(\"Cantidad de filas duplicadas: \", cantidad_duplicados)\n",
    "print()\n",
    "filas_duplicadas = credit_scoring[hay_duplicados]\n",
    "\n",
    "filas_duplicadas"
   ]
  },
  {
   "cell_type": "code",
   "execution_count": 35,
   "metadata": {},
   "outputs": [],
   "source": [
    "credit_scoring = credit_scoring.drop_duplicates(keep=False)\n"
   ]
  },
  {
   "cell_type": "code",
   "execution_count": 36,
   "metadata": {},
   "outputs": [
    {
     "name": "stdout",
     "output_type": "stream",
     "text": [
      "Cantidad de filas duplicadas:  0\n"
     ]
    }
   ],
   "source": [
    "# Última comprobación para ver si tenemos duplicados\n",
    "hay_duplicados = credit_scoring.duplicated()\n",
    "\n",
    "\n",
    "cantidad_duplicados = hay_duplicados.sum()\n",
    "\n",
    "print(\"Cantidad de filas duplicadas: \", cantidad_duplicados)\n"
   ]
  },
  {
   "cell_type": "code",
   "execution_count": 37,
   "metadata": {},
   "outputs": [
    {
     "name": "stdout",
     "output_type": "stream",
     "text": [
      "<class 'pandas.core.frame.DataFrame'>\n",
      "Int64Index: 21387 entries, 0 to 21524\n",
      "Data columns (total 12 columns):\n",
      " #   Column            Non-Null Count  Dtype  \n",
      "---  ------            --------------  -----  \n",
      " 0   children          21387 non-null  int64  \n",
      " 1   days_employed     15905 non-null  float64\n",
      " 2   dob_years         21387 non-null  float64\n",
      " 3   education         21387 non-null  object \n",
      " 4   education_id      21387 non-null  int64  \n",
      " 5   family_status     21387 non-null  object \n",
      " 6   family_status_id  21387 non-null  int64  \n",
      " 7   gender            21387 non-null  object \n",
      " 8   income_type       21387 non-null  object \n",
      " 9   debt              21387 non-null  int64  \n",
      " 10  total_income      19350 non-null  float64\n",
      " 11  purpose           21387 non-null  object \n",
      "dtypes: float64(3), int64(4), object(5)\n",
      "memory usage: 2.1+ MB\n"
     ]
    }
   ],
   "source": [
    "# Comprueba el tamaño del conjunto de datos que tienes ahora, después de haber ejecutado estas primeras manipulaciones\n",
    "credit_scoring.info()"
   ]
  },
  {
   "attachments": {},
   "cell_type": "markdown",
   "metadata": {},
   "source": [
    " Elimine duplicados y ya tenemos una tabla con valores limpios y completos, a exepcion de aquellos valores donde no tienen trabajo\n"
   ]
  },
  {
   "cell_type": "markdown",
   "metadata": {},
   "source": [
    "# Trabajar con valores ausentes"
   ]
  },
  {
   "cell_type": "code",
   "execution_count": 38,
   "metadata": {},
   "outputs": [
    {
     "name": "stdout",
     "output_type": "stream",
     "text": [
      "[\"Bachelor's Degree\" 'Secondary Education' 'Some College'\n",
      " 'Primary Education' 'Graduate Degree' 'graduate degree']\n"
     ]
    }
   ],
   "source": [
    "print(credit_scoring['education'].unique())\n",
    "\n",
    "education_dict = {\n",
    "    \"Bachelor's Degree\": \"Bachelor's Degree\",\n",
    "    'Secondary Education': 'Secondary Education',\n",
    "    'Some College': 'Some College',\n",
    "    'Primary Education': 'Primary Education',\n",
    "    'Graduate Degree': 'Graduate Degree',\n",
    "    'graduate degree': 'Graduate Degree'  # Considerando \"graduate degree\" como \"Graduate Degree\"\n",
    "}\n",
    "\n",
    "credit_scoring['education'] = credit_scoring['education'].map(education_dict)\n",
    "\n",
    "\n",
    "\n",
    "\n"
   ]
  },
  {
   "cell_type": "markdown",
   "metadata": {},
   "source": [
    "### Restaurar valores ausentes en `total_income`"
   ]
  },
  {
   "attachments": {},
   "cell_type": "markdown",
   "metadata": {},
   "source": [
    "Las columnas que tienen valores ausentes son las de dias empleados e ingreso total."
   ]
  },
  {
   "cell_type": "code",
   "execution_count": 39,
   "metadata": {},
   "outputs": [],
   "source": [
    "# Vamos a escribir una función que calcule la categoría de edad\n",
    "def categorizar_edad(edad):\n",
    "    if edad >= 60:\n",
    "        return '60+'\n",
    "    elif edad >= 50:\n",
    "        return '50-59'\n",
    "    elif edad >= 40:\n",
    "        return '40-49'\n",
    "    elif edad >= 30:\n",
    "        return '30-39'\n",
    "    elif edad >= 20:\n",
    "        return '20-29'\n",
    "    elif edad >= 10:\n",
    "        return '10-19'\n",
    "    else:\n",
    "        return '0-9'\n"
   ]
  },
  {
   "cell_type": "code",
   "execution_count": 40,
   "metadata": {},
   "outputs": [],
   "source": [
    "# Crear una nueva columna basada en la función\n",
    "credit_scoring['age_category'] = credit_scoring['dob_years'].apply(categorizar_edad)\n",
    "\n"
   ]
  },
  {
   "cell_type": "code",
   "execution_count": 41,
   "metadata": {},
   "outputs": [
    {
     "data": {
      "text/plain": [
       "30-39    5650\n",
       "40-49    5439\n",
       "50-59    4637\n",
       "20-29    3162\n",
       "60+      2485\n",
       "10-19      14\n",
       "Name: age_category, dtype: int64"
      ]
     },
     "execution_count": 41,
     "metadata": {},
     "output_type": "execute_result"
    }
   ],
   "source": [
    "# Comprobar cómo los valores en la nueva columna\n",
    "# Contar cuántas personas pertenecen a cada categoría de edad\n",
    "conteo_categorias_edad = credit_scoring['age_category'].value_counts()\n",
    "\n",
    "conteo_categorias_edad\n",
    "\n",
    "\n"
   ]
  },
  {
   "cell_type": "code",
   "execution_count": 42,
   "metadata": {},
   "outputs": [
    {
     "name": "stdout",
     "output_type": "stream",
     "text": [
      "    children  days_employed  dob_years            education  education_id  \\\n",
      "0          1    8437.673028       42.0    Bachelor's Degree             0   \n",
      "1          1    4024.803754       36.0  Secondary Education             1   \n",
      "2          0    5623.422610       33.0  Secondary Education             1   \n",
      "3          3    4124.747207       32.0  Secondary Education             1   \n",
      "5          0     926.185831       27.0    Bachelor's Degree             0   \n",
      "6          0    2879.202052       43.0    Bachelor's Degree             0   \n",
      "7          0     152.779569       50.0  Secondary Education             1   \n",
      "8          2    6929.865299       35.0    Bachelor's Degree             0   \n",
      "9          0    2188.756445       41.0  Secondary Education             1   \n",
      "10         2    4171.483647       36.0    Bachelor's Degree             0   \n",
      "\n",
      "        family_status  family_status_id gender income_type  debt  \\\n",
      "0             married                 0      F    employee     0   \n",
      "1             married                 0      F    employee     0   \n",
      "2             married                 0      M    employee     0   \n",
      "3             married                 0      M    employee     0   \n",
      "5   civil partnership                 1      M    business     0   \n",
      "6             married                 0      F    business     0   \n",
      "7             married                 0      M    employee     0   \n",
      "8   civil partnership                 1      F    employee     0   \n",
      "9             married                 0      M    employee     0   \n",
      "10            married                 0      M    business     0   \n",
      "\n",
      "    total_income                              purpose age_category  \n",
      "0      40620.102                purchase of the house        40-49  \n",
      "1      17932.802                         car purchase        30-39  \n",
      "2      23341.752                purchase of the house        30-39  \n",
      "3      42820.568              supplementary education        30-39  \n",
      "5      40922.170                purchase of the house        20-29  \n",
      "6      38484.156                 housing transactions        40-49  \n",
      "7      21731.829                            education        50-59  \n",
      "8      15337.093                     having a wedding        30-39  \n",
      "9      23108.150  purchase of the house for my family        40-49  \n",
      "10     18230.959                      buy real estate        30-39  \n"
     ]
    }
   ],
   "source": [
    "# Crea una tabla sin valores ausentes y muestra algunas de sus filas para asegurarte de que se ve bien\n",
    "# Crear una nueva tabla sin valores ausentes\n",
    "tabla_sin_ausentes = credit_scoring.dropna()\n",
    "print(tabla_sin_ausentes.head(10))\n"
   ]
  },
  {
   "cell_type": "code",
   "execution_count": 43,
   "metadata": {},
   "outputs": [
    {
     "name": "stdout",
     "output_type": "stream",
     "text": [
      "age_category\n",
      "10-19    16993.942462\n",
      "20-29    25596.289155\n",
      "30-39    28345.798076\n",
      "40-49    28552.731786\n",
      "50-59    27820.402010\n",
      "60+      29055.973440\n",
      "Name: total_income, dtype: float64\n"
     ]
    }
   ],
   "source": [
    "# Examina los valores medios de los ingresos en función de los factores que identificaste\n",
    "mean_income_by_age_group = tabla_sin_ausentes.groupby('age_category')['total_income'].mean()\n",
    "\n",
    "print(mean_income_by_age_group)\n"
   ]
  },
  {
   "cell_type": "code",
   "execution_count": 44,
   "metadata": {
    "scrolled": true
   },
   "outputs": [
    {
     "name": "stdout",
     "output_type": "stream",
     "text": [
      "age_category\n",
      "10-19    14934.9010\n",
      "20-29    22809.7140\n",
      "30-39    24731.4510\n",
      "40-49    24795.3485\n",
      "50-59    23807.9820\n",
      "60+      25195.1730\n",
      "Name: total_income, dtype: float64\n"
     ]
    }
   ],
   "source": [
    "# Examina los valores medianos de los ingresos en función de los factores que identificaste\n",
    "median_income_by_age_group = tabla_sin_ausentes.groupby('age_category')['total_income'].median()\n",
    "\n",
    "print(median_income_by_age_group)\n"
   ]
  },
  {
   "attachments": {},
   "cell_type": "markdown",
   "metadata": {},
   "source": [
    "Como no hay valores atipicos ni extremos, usare la media para remplazar los valores ausentes\n"
   ]
  },
  {
   "cell_type": "code",
   "execution_count": 45,
   "metadata": {},
   "outputs": [],
   "source": [
    "#  Escribe una función que usaremos para completar los valores ausentes\n",
    "def completar_con_media(columna):\n",
    "    # Calculamos la media de la columna\n",
    "    media = columna.mean()\n",
    "    \n",
    "    # Rellenamos los valores ausentes con la media\n",
    "    columna_completada = columna.fillna(media)\n",
    "    \n",
    "    return columna_completada\n",
    "\n",
    "        "
   ]
  },
  {
   "cell_type": "code",
   "execution_count": 46,
   "metadata": {},
   "outputs": [
    {
     "name": "stdout",
     "output_type": "stream",
     "text": [
      "age_category\n",
      "10-19    16993.942462\n",
      "20-29    25596.289155\n",
      "30-39    28345.798076\n",
      "40-49    28552.731786\n",
      "50-59    27820.402010\n",
      "60+      29055.973440\n",
      "Name: total_income, dtype: float64\n"
     ]
    }
   ],
   "source": [
    "# Aplícalo a cada fila\n",
    "# Agrupar la tabla sin valores ausentes por la columna 'age_category' y calcular el valor medio de 'total_income'\n",
    "mean_income_by_age_group = tabla_sin_ausentes.groupby('age_category')['total_income'].mean()\n",
    "\n",
    "print(mean_income_by_age_group)\n",
    "\n",
    "# Crear un diccionario con las categorías de edad y los valores medios correspondientes\n",
    "mean_income_dict = mean_income_by_age_group.to_dict()\n",
    "\n",
    "# Agrupar la tabla general por la columna 'age_category' y calcular la media de 'total_income'\n",
    "mean_income_by_age_group_general = credit_scoring.groupby('age_category')['total_income'].mean()\n",
    "# Crear un diccionario con las categorías de edad y las medias correspondientes\n",
    "mean_income_dict = mean_income_by_age_group_general.to_dict()\n",
    "\n",
    "# Utilizar el diccionario para reemplazar los valores ausentes en 'total_income' en la tabla general\n",
    "credit_scoring['total_income'] = credit_scoring.apply(lambda row: mean_income_dict[row['age_category']] if pd.isnull(row['total_income']) else row['total_income'], axis=1)\n",
    "\n",
    "\n"
   ]
  },
  {
   "cell_type": "code",
   "execution_count": 47,
   "metadata": {},
   "outputs": [
    {
     "name": "stdout",
     "output_type": "stream",
     "text": [
      "<class 'pandas.core.frame.DataFrame'>\n",
      "Int64Index: 21387 entries, 0 to 21524\n",
      "Data columns (total 13 columns):\n",
      " #   Column            Non-Null Count  Dtype  \n",
      "---  ------            --------------  -----  \n",
      " 0   children          21387 non-null  int64  \n",
      " 1   days_employed     15905 non-null  float64\n",
      " 2   dob_years         21387 non-null  float64\n",
      " 3   education         21387 non-null  object \n",
      " 4   education_id      21387 non-null  int64  \n",
      " 5   family_status     21387 non-null  object \n",
      " 6   family_status_id  21387 non-null  int64  \n",
      " 7   gender            21387 non-null  object \n",
      " 8   income_type       21387 non-null  object \n",
      " 9   debt              21387 non-null  int64  \n",
      " 10  total_income      21387 non-null  float64\n",
      " 11  purpose           21387 non-null  object \n",
      " 12  age_category      21387 non-null  object \n",
      "dtypes: float64(3), int64(4), object(6)\n",
      "memory usage: 2.3+ MB\n"
     ]
    }
   ],
   "source": [
    "# Comprueba si tenemos algún error\n",
    "credit_scoring.info()\n"
   ]
  },
  {
   "attachments": {},
   "cell_type": "markdown",
   "metadata": {},
   "source": [
    "Comprobamos que ya no hay valores ausentes en total_income"
   ]
  },
  {
   "cell_type": "markdown",
   "metadata": {},
   "source": [
    "###  Restaurar valores en `days_employed`"
   ]
  },
  {
   "cell_type": "code",
   "execution_count": 48,
   "metadata": {
    "pycharm": {
     "name": "#%%\n"
    }
   },
   "outputs": [
    {
     "name": "stdout",
     "output_type": "stream",
     "text": [
      "1629.9978622545889\n"
     ]
    }
   ],
   "source": [
    "# Distribución de las medianas de `days_employed` en función de los parámetros identificados\n",
    "# Calcular la mediana de 'days_employed' en la tabla sin valores ausentes\n",
    "median_days_employed = tabla_sin_ausentes['days_employed'].median()\n",
    "\n",
    "print(median_days_employed)\n",
    "\n"
   ]
  },
  {
   "cell_type": "code",
   "execution_count": 49,
   "metadata": {},
   "outputs": [
    {
     "name": "stdout",
     "output_type": "stream",
     "text": [
      "2353.0155808784584\n"
     ]
    }
   ],
   "source": [
    "# Distribución de las medias de `days_employed` en función de los parámetros identificados\n",
    "# Calcular la media de 'days_employed' en la tabla sin valores ausentes\n",
    "mean_days_employed = tabla_sin_ausentes['days_employed'].mean()\n",
    "\n",
    "print(mean_days_employed)\n"
   ]
  },
  {
   "attachments": {},
   "cell_type": "markdown",
   "metadata": {},
   "source": [
    "Utilizaremos la mediana ya que los valores son muy distantes"
   ]
  },
  {
   "cell_type": "code",
   "execution_count": 50,
   "metadata": {},
   "outputs": [],
   "source": [
    "# Utilizar la mediana para reemplazar los valores ausentes en 'days_employed' en la tabla general\n",
    "credit_scoring['days_employed'] = credit_scoring['days_employed'].fillna(median_days_employed)\n"
   ]
  },
  {
   "attachments": {},
   "cell_type": "markdown",
   "metadata": {},
   "source": [
    "Solo tengo valores ausentes en education, asi que completare."
   ]
  },
  {
   "cell_type": "code",
   "execution_count": 51,
   "metadata": {},
   "outputs": [
    {
     "name": "stdout",
     "output_type": "stream",
     "text": [
      "<class 'pandas.core.frame.DataFrame'>\n",
      "Int64Index: 21387 entries, 0 to 21524\n",
      "Data columns (total 13 columns):\n",
      " #   Column            Non-Null Count  Dtype  \n",
      "---  ------            --------------  -----  \n",
      " 0   children          21387 non-null  int64  \n",
      " 1   days_employed     21387 non-null  float64\n",
      " 2   dob_years         21387 non-null  float64\n",
      " 3   education         21387 non-null  object \n",
      " 4   education_id      21387 non-null  int64  \n",
      " 5   family_status     21387 non-null  object \n",
      " 6   family_status_id  21387 non-null  int64  \n",
      " 7   gender            21387 non-null  object \n",
      " 8   income_type       21387 non-null  object \n",
      " 9   debt              21387 non-null  int64  \n",
      " 10  total_income      21387 non-null  float64\n",
      " 11  purpose           21387 non-null  object \n",
      " 12  age_category      21387 non-null  object \n",
      "dtypes: float64(3), int64(4), object(6)\n",
      "memory usage: 2.3+ MB\n",
      "<class 'pandas.core.frame.DataFrame'>\n",
      "Int64Index: 21387 entries, 0 to 21524\n",
      "Data columns (total 13 columns):\n",
      " #   Column            Non-Null Count  Dtype  \n",
      "---  ------            --------------  -----  \n",
      " 0   children          21387 non-null  int64  \n",
      " 1   days_employed     21387 non-null  float64\n",
      " 2   dob_years         21387 non-null  float64\n",
      " 3   education         21387 non-null  object \n",
      " 4   education_id      21387 non-null  int64  \n",
      " 5   family_status     21387 non-null  object \n",
      " 6   family_status_id  21387 non-null  int64  \n",
      " 7   gender            21387 non-null  object \n",
      " 8   income_type       21387 non-null  object \n",
      " 9   debt              21387 non-null  int64  \n",
      " 10  total_income      21387 non-null  float64\n",
      " 11  purpose           21387 non-null  object \n",
      " 12  age_category      21387 non-null  object \n",
      "dtypes: float64(3), int64(4), object(6)\n",
      "memory usage: 2.3+ MB\n"
     ]
    }
   ],
   "source": [
    "# Comprueba las entradas en todas las columnas: asegúrate de que hayamos corregido todos los valores ausentes\n",
    "credit_scoring.info()\n",
    "def completar_con_moda_education(tabla_general, tabla_sin_ausentes):\n",
    "    # Calcular la moda de 'education' en la tabla sin valores ausentes\n",
    "    moda_education = tabla_sin_ausentes['education'].mode().iloc[0]\n",
    "    \n",
    "    # Utilizar la moda para reemplazar los valores ausentes en 'education' en la tabla general\n",
    "    tabla_general['education'] = tabla_general['education'].fillna(moda_education)\n",
    "    \n",
    "    return tabla_general\n",
    "\n",
    "# Llamar a la función para completar los valores ausentes en 'education'\n",
    "credit_scoring = completar_con_moda_education(credit_scoring, tabla_sin_ausentes)\n",
    "\n",
    "credit_scoring.info()\n",
    "\n"
   ]
  },
  {
   "attachments": {},
   "cell_type": "markdown",
   "metadata": {},
   "source": [
    "## Clasificación de datos\n",
    "\n",
    "Las preguntas son las siguientes: \n",
    "¿Hay alguna conexión entre tener hijos y pagar un préstamo a tiempo?\n",
    "¿Existe una conexión entre el estado civil y el pago a tiempo de un préstamo?\n",
    "¿Existe una conexión entre el nivel de ingresos y el pago a tiempo de un préstamo?\n",
    "¿Cómo afectan los diferentes propósitos del préstamo al reembolso a tiempo del préstamo?\n",
    "\n",
    "Clasificare los datos para tratar de responder esas preguntas"
   ]
  },
  {
   "attachments": {},
   "cell_type": "markdown",
   "metadata": {},
   "source": [
    "¿Hay alguna conexión entre tener hijos y pagar un préstamo a tiempo?\n",
    "\n",
    "Clasificación: Podemos dividir los datos en dos grupos: aquellos que tienen hijos (children > 0) y aquellos que no tienen hijos (children = 0).\n",
    "Análisis: Comparar la proporción de personas que pagan a tiempo el préstamo en cada grupo. Si hay una diferencia significativa entre los dos grupos, podríamos inferir que existe una conexión entre tener hijos y el pago a tiempo del préstamo."
   ]
  },
  {
   "cell_type": "code",
   "execution_count": 52,
   "metadata": {},
   "outputs": [
    {
     "name": "stdout",
     "output_type": "stream",
     "text": [
      "tiene_hijos\n",
      "No tiene hijos    0.075706\n",
      "Tiene hijos       0.092570\n",
      "Name: debt, dtype: float64\n"
     ]
    }
   ],
   "source": [
    "# Crear una columna 'tiene_hijos' en la tabla general\n",
    "credit_scoring['tiene_hijos'] = credit_scoring['children'].apply(lambda x: 'Tiene hijos' if x > 0 else 'No tiene hijos')\n",
    "# Calcular la proporción de pagos a tiempo en cada grupo\n",
    "pagos_tiempo_por_grupo = credit_scoring.groupby('tiene_hijos')['debt'].mean()\n",
    "\n",
    "print(pagos_tiempo_por_grupo)\n",
    "\n"
   ]
  },
  {
   "cell_type": "markdown",
   "metadata": {},
   "source": [
    "Si bien la diferencia no es muy significativa, la proporción de pagos a tiempo parece ser ligeramente mayor en el grupo de personas que tienen hijos. Esto podría sugerir que tener hijos puede tener una leve conexión con el pago puntual de préstamos"
   ]
  },
  {
   "attachments": {},
   "cell_type": "markdown",
   "metadata": {},
   "source": [
    "¿Existe una conexión entre el estado civil y el pago a tiempo de un préstamo?\n",
    "\n",
    "Clasificación: Podemos agrupar los datos según el estado civil (married, civil partnership, unmarried, divorced, widow / widower).\n",
    "Análisis: Comparar la proporción de personas que pagan a tiempo el préstamo en cada estado civil. Si observamos diferencias significativas en los patrones de pago a tiempo según el estado civil, podríamos establecer una conexión entre el estado civil y el pago puntual del préstamo.\n",
    "\n",
    "Primero, agruparemos los datos según el estado civil y luego calcularemos la proporción de personas que pagan a tiempo el préstamo en cada grupo. A continuación, utilizaremos gráficos para visualizar las diferencias entre los diferentes estados civiles."
   ]
  },
  {
   "cell_type": "code",
   "execution_count": 53,
   "metadata": {},
   "outputs": [
    {
     "data": {
      "image/png": "[encoded data removed]",
      "text/plain": [
       "<Figure size 576x360 with 1 Axes>"
      ]
     },
     "metadata": {
      "needs_background": "light"
     },
     "output_type": "display_data"
    },
    {
     "data": {
      "image/png": "[encoded data removed]",
      "text/plain": [
       "<Figure size 576x360 with 1 Axes>"
      ]
     },
     "metadata": {
      "needs_background": "light"
     },
     "output_type": "display_data"
    },
    {
     "data": {
      "image/png": "[encoded data removed]",
      "text/plain": [
       "<Figure size 576x360 with 1 Axes>"
      ]
     },
     "metadata": {
      "needs_background": "light"
     },
     "output_type": "display_data"
    }
   ],
   "source": [
    "# Agrupar los datos según el estado civil y calcular la proporción de pagos a tiempo en cada grupo\n",
    "pagos_tiempo_por_estado_civil = credit_scoring.groupby('family_status')['debt'].mean()\n",
    "\n",
    "# Graficar la proporción de pagos a tiempo por estado civil\n",
    "plt.figure(figsize=(8, 5))\n",
    "pagos_tiempo_por_estado_civil.plot(kind='bar')\n",
    "plt.title('Proporción de pagos a tiempo por estado civil')\n",
    "plt.xlabel('Estado Civil')\n",
    "plt.ylabel('Proporción de pagos a tiempo')\n",
    "plt.xticks(rotation=45)\n",
    "plt.show()\n",
    "\n",
    "#ordenando la grafica\n",
    "\n",
    "# Ordenar la tabla por la proporción de pagos a tiempo en orden descendente\n",
    "pagos_tiempo_por_estado_civil_sorted = pagos_tiempo_por_estado_civil.sort_values(ascending=False)\n",
    "\n",
    "# Graficar la proporción de pagos a tiempo por estado civil en orden descendente\n",
    "plt.figure(figsize=(8, 5))\n",
    "pagos_tiempo_por_estado_civil_sorted.plot(kind='bar')\n",
    "plt.title('Proporción de pagos a tiempo por estado civil')\n",
    "plt.xlabel('Estado Civil')\n",
    "plt.ylabel('Proporción de pagos a tiempo')\n",
    "plt.xticks(rotation=45)\n",
    "plt.show()\n",
    "\n",
    "plt.figure(figsize=(8, 5))\n",
    "ax = pagos_tiempo_por_estado_civil_sorted.plot(kind='bar')\n",
    "plt.title('Proporción de pagos a tiempo por estado civil')\n",
    "plt.xlabel('Estado Civil')\n",
    "plt.ylabel('Proporción de pagos a tiempo')\n",
    "plt.xticks(rotation=45)\n",
    "\n",
    "# Agregar etiquetas a las barras para mostrar la proporción de pagos a tiempo\n",
    "for p in ax.patches:\n",
    "    ax.annotate(str(round(p.get_height(), 2)), (p.get_x() + p.get_width() / 2., p.get_height()),\n",
    "                ha='center', va='center', xytext=(0, 5), textcoords='offset points')\n",
    "\n",
    "plt.show()\n",
    "\n",
    "\n",
    "\n"
   ]
  },
  {
   "cell_type": "markdown",
   "metadata": {},
   "source": [
    "Por lo tanto, los \"unmarried\" son el grupo que muestra la mayor proporción de pagos puntuales del préstamo en la gráfica"
   ]
  },
  {
   "cell_type": "markdown",
   "metadata": {},
   "source": [
    "Ahora vamos a analizar si existe una conexión entre el nivel de ingresos y el pago puntual del préstamo.\n",
    "\n",
    "Para esto, primero dividiremos los datos en grupos según el nivel de ingresos. Podemos utilizar cuantiles para crear grupos iguales en tamaño o categorías específicas para tener una mejor visualización de los resultados.\n"
   ]
  },
  {
   "cell_type": "code",
   "execution_count": 54,
   "metadata": {},
   "outputs": [
    {
     "name": "stdout",
     "output_type": "stream",
     "text": [
      "total_income\n",
      "(3306.761, 15749.085]      0.080178\n",
      "(15749.085, 21631.422]     0.082534\n",
      "(21631.422, 26724.935]     0.089783\n",
      "(26724.935, 34371.397]     0.084639\n",
      "(34371.397, 362496.645]    0.069892\n",
      "Name: debt, dtype: float64\n"
     ]
    },
    {
     "data": {
      "image/png": "[encoded data removed]",
      "text/plain": [
       "<Figure size 576x360 with 1 Axes>"
      ]
     },
     "metadata": {
      "needs_background": "light"
     },
     "output_type": "display_data"
    }
   ],
   "source": [
    "# Dividir los datos en grupos según el nivel de ingresos utilizando cuantiles\n",
    "income_groups = pd.qcut(credit_scoring['total_income'], q=5)  # Dividir en 5 cuantiles\n",
    "\n",
    "# Calcular la proporción de pagos a tiempo en cada grupo de ingresos\n",
    "pagos_tiempo_por_ingresos = credit_scoring.groupby(income_groups)['debt'].mean()\n",
    "\n",
    "print(pagos_tiempo_por_ingresos)\n",
    "\n",
    "plt.figure(figsize=(8, 5))\n",
    "ax = pagos_tiempo_por_ingresos.plot(kind='bar')\n",
    "plt.title('Proporción de pagos a tiempo por nivel de ingresos')\n",
    "plt.xlabel('Nivel de Ingresos')\n",
    "plt.ylabel('Proporción de pagos a tiempo')\n",
    "plt.xticks(rotation=45)\n",
    "\n",
    "# Agregar etiquetas a las barras para mostrar la proporción de pagos a tiempo\n",
    "for p in ax.patches:\n",
    "    ax.annotate(str(round(p.get_height(), 2)), (p.get_x() + p.get_width() / 2., p.get_height()),\n",
    "                ha='center', va='center', xytext=(0, 5), textcoords='offset points')\n",
    "\n",
    "plt.show()\n",
    "\n",
    "\n"
   ]
  },
  {
   "cell_type": "markdown",
   "metadata": {},
   "source": [
    "Los grupos con ingresos más altos, es decir, aquellos en el rango de (35697.209, 362496.645], muestran la proporción más baja de pagos a tiempo (0.070801), mientras que los grupos con ingresos más bajos tienen una proporción ligeramente mayor.\n",
    "\n",
    "Sin embargo, las diferencias en las proporciones no parecen ser muy significativas entre los diferentes grupos de ingresos\n",
    "\n",
    "-----------\n",
    "\n",
    "Ahora procederemos a analizar cómo afectan los diferentes propósitos del préstamo al reembolso a tiempo del mismo.\n",
    "\n",
    "Para esto, agruparemos los datos según los diferentes propósitos del préstamo, utilizando categorías como \"vivienda\", \"educación\", \"automóvil\", etc. Luego, calcularemos la proporción de pagos a tiempo en cada categoría y compararemos los resultados para determinar si existen diferencias significativas en los patrones de pago a tiempo según el propósito del préstamo."
   ]
  },
  {
   "cell_type": "code",
   "execution_count": 55,
   "metadata": {},
   "outputs": [
    {
     "name": "stdout",
     "output_type": "stream",
     "text": [
      "purpose\n",
      "to get a supplementary education            0.114607\n",
      "purchase of a car                           0.109890\n",
      "getting higher education                    0.107981\n",
      "second-hand car purchase                    0.105590\n",
      "profile education                           0.100917\n",
      "to own a car                                0.100840\n",
      "to become educated                          0.096535\n",
      "to buy a car                                0.093617\n",
      "cars                                        0.092050\n",
      "car purchase                                0.091304\n",
      "buying my own car                           0.091089\n",
      "university education                        0.088692\n",
      "building a property                         0.087379\n",
      "going to university                         0.086694\n",
      "car                                         0.085193\n",
      "having a wedding                            0.084100\n",
      "getting an education                        0.083900\n",
      "supplementary education                     0.082969\n",
      "real estate transactions                    0.081602\n",
      "wedding ceremony                            0.081529\n",
      "transactions with my real estate            0.080128\n",
      "buying property for renting out             0.080123\n",
      "transactions with commercial real estate    0.080123\n",
      "building a real estate                      0.077170\n",
      "to have a wedding                           0.076618\n",
      "buying a second-hand car                    0.075472\n",
      "purchase of the house                       0.074419\n",
      "housing transactions                        0.073733\n",
      "education                                   0.071588\n",
      "buy commercial real estate                  0.071429\n",
      "housing                                     0.071318\n",
      "purchase of the house for my family         0.070866\n",
      "buy real estate                             0.069692\n",
      "buy residential real estate                 0.067769\n",
      "property                                    0.066456\n",
      "construction of own property                0.066142\n",
      "housing renovation                          0.057947\n",
      "purchase of my own house                    0.054839\n",
      "Name: debt, dtype: float64\n"
     ]
    },
    {
     "data": {
      "image/png": "[encoded data removed]",
      "text/plain": [
       "<Figure size 720x432 with 1 Axes>"
      ]
     },
     "metadata": {
      "needs_background": "light"
     },
     "output_type": "display_data"
    }
   ],
   "source": [
    "# Agrupar los datos según el propósito del préstamo y calcular la proporción de pagos a tiempo en cada categoría\n",
    "pagos_tiempo_por_proposito = credit_scoring.groupby('purpose')['debt'].mean()\n",
    "\n",
    "# Ordenar la tabla por la proporción de pagos a tiempo en orden descendente\n",
    "pagos_tiempo_por_proposito_sorted = pagos_tiempo_por_proposito.sort_values(ascending=False)\n",
    "\n",
    "print(pagos_tiempo_por_proposito_sorted)\n",
    "\n",
    "# Ordenar las categorías de préstamo en forma descendente según la proporción de pagos a tiempo\n",
    "pagos_tiempo_por_purpose_sorted = pagos_tiempo_por_proposito.sort_values(ascending=False)\n",
    "\n",
    "# Graficar la proporción de pagos a tiempo por categoría de préstamo (orden descendente)\n",
    "plt.figure(figsize=(10, 6))\n",
    "ax = pagos_tiempo_por_purpose_sorted.plot(kind='bar')\n",
    "plt.title('Proporción de pagos a tiempo por categoría de préstamo')\n",
    "plt.xlabel('Propósito del préstamo')\n",
    "plt.ylabel('Proporción de pagos a tiempo')\n",
    "plt.xticks(rotation=45)\n",
    "\n",
    "# Agregar etiquetas a las barras para mostrar la proporción de pagos a tiempo\n",
    "for p in ax.patches:\n",
    "    ax.annotate(str(round(p.get_height(), 2)), (p.get_x() + p.get_width() / 2., p.get_height()),\n",
    "                ha='center', va='center', xytext=(0, 5), textcoords='offset points')\n",
    "\n",
    "plt.show()\n",
    "\n",
    "\n",
    "\n",
    "\n"
   ]
  },
  {
   "cell_type": "markdown",
   "metadata": {},
   "source": [
    "## Comprobación de las hipótesis\n"
   ]
  },
  {
   "cell_type": "markdown",
   "metadata": {},
   "source": [
    "**Conclusión**\n",
    "\n",
    "¿Hay alguna conexión entre tener hijos y pagar un préstamo a tiempo?\n",
    "\n",
    "En nuestro análisis, hemos observado que existe una leve diferencia en la tasa de incumplimiento de pagos entre aquellos clientes que tienen hijos y aquellos que no los tienen. Los clientes que tienen hijos muestran una tasa de incumplimiento ligeramente mayor (aproximadamente 9.26%) en comparación con los clientes que no tienen hijos (aproximadamente 7.57%). Esta diferencia es de alrededor del 1.69%, lo que sugiere que tener hijos puede tener un efecto leve en la puntualidad de los pagos de préstamos.\n",
    "\n",
    "Sin embargo, es importante tener en cuenta que esta diferencia no es significativa y puede deberse a otros factores no considerados en este análisis exploratorio. Para obtener conclusiones más sólidas, sería necesario realizar pruebas estadísticas más detalladas y considerar otras variables que puedan influir en los patrones de pago a tiempo.\n",
    "\n",
    "Tasa de incumplimiento en función del número de hijos:\n",
    "\n",
    "No tiene hijos: 7.57% de tasa de incumplimiento\n",
    "Tiene hijos: 9.26% de tasa de incumplimiento\n"
   ]
  },
  {
   "cell_type": "markdown",
   "metadata": {},
   "source": [
    "**¿Existe una correlación entre la situación familiar y el pago a tiempo?**"
   ]
  },
  {
   "cell_type": "markdown",
   "metadata": {},
   "source": [
    "**Conclusión**\n",
    "\n",
    " ¿Existe una conexión entre el estado civil y el pago a tiempo de un préstamo?\n",
    "\n",
    "En nuestro análisis, hemos examinado la relación entre el estado civil y la puntualidad en el pago de préstamos. Observamos que existen diferencias ligeras en la tasa de incumplimiento entre las diferentes categorías de estado civil. Los resultados muestran que las personas con estado civil \"unmarried\" (no casadas) tienen la tasa de incumplimiento más baja, seguidas por las personas con estado civil \"civil partnership\" (pareja civil), \"married\" (casadas), \"divorced\" (divorciadas) y finalmente \"widow/widower\" (viudas/viudos).\n",
    "\n",
    "Es importante destacar que las diferencias en las tasas de incumplimiento no son significativamente grandes entre las diferentes categorías de estado civil. Esto sugiere que, aunque existe una relación entre el estado civil y la puntualidad en el pago de préstamos, otros factores también pueden influir en el comportamiento de pago.\n",
    "\n",
    "Tasa de incumplimiento basada en el estado familiar:\n",
    "\n",
    "Unmarried: 7.98% de tasa de incumplimiento\n",
    "Civil Partnership: 8.37% de tasa de incumplimiento\n",
    "Married: 8.65% de tasa de incumplimiento\n",
    "Divorced: 8.50% de tasa de incumplimiento\n",
    "Widow/Widower: 7.08% de tasa de incumplimiento"
   ]
  },
  {
   "cell_type": "markdown",
   "metadata": {},
   "source": [
    "**¿Existe una correlación entre el nivel de ingresos y el pago a tiempo?**"
   ]
  },
  {
   "cell_type": "markdown",
   "metadata": {},
   "source": [
    "**Conclusión**\n",
    "\n",
    "¿Existe una conexión entre el nivel de ingresos y el pago a tiempo de un préstamo?\n",
    "\n",
    "En nuestro análisis, hemos evaluado la relación entre el nivel de ingresos y la puntualidad en el pago de préstamos. Observamos que hay una ligera variación en la tasa de incumplimiento entre los diferentes grupos de ingresos. Los resultados muestran que los grupos con ingresos más altos tienden a tener una tasa de incumplimiento ligeramente menor en comparación con los grupos de ingresos más bajos.\n",
    "\n",
    "Sin embargo, es fundamental tener en cuenta que las diferencias en las tasas de incumplimiento no son significativas entre los diferentes grupos de ingresos. Esto sugiere que, aunque existe una relación entre el nivel de ingresos y la puntualidad en el pago de préstamos, otros factores también pueden influir en el comportamiento de pago.\n",
    "\n",
    "Tasa de incumplimiento basada en el nivel de ingresos:\n",
    "\n",
    "Grupo de ingresos más bajo (3306.76 - 15173.89): 7.98% de tasa de incumplimiento\n",
    "Grupo de ingresos bajo-medio (15173.89 - 20524.75): 8.37% de tasa de incumplimiento\n",
    "Grupo de ingresos medio (20524.75 - 26345.75): 8.66% de tasa de incumplimiento\n",
    "Grupo de ingresos medio-alto (26345.75 - 35697.21): 8.50% de tasa de incumplimiento\n",
    "Grupo de ingresos más alto (35697.21 - 362496.65): 7.08% de tasa de incumplimiento"
   ]
  },
  {
   "cell_type": "markdown",
   "metadata": {},
   "source": [
    "**¿Cómo afecta el propósito del crédito a la tasa de incumplimiento?**"
   ]
  },
  {
   "cell_type": "markdown",
   "metadata": {},
   "source": [
    "**Conclusión**\n",
    "\n",
    "¿Cómo afectan los diferentes propósitos del préstamo al reembolso a tiempo del préstamo?\n",
    "\n",
    "En nuestro análisis, hemos examinado cómo los diferentes propósitos del préstamo se relacionan con la puntualidad en el reembolso del préstamo. Observamos que existen diferencias significativas en la tasa de incumplimiento entre las distintas categorías de propósito del préstamo.\n",
    "\n",
    "Los resultados muestran que los préstamos destinados a \"educación\" y \"matrimonio\" presentan una tasa de incumplimiento más alta, mientras que los préstamos para \"compra de vivienda\" y \"compra de un automóvil\" muestran una tasa de incumplimiento más baja.\n",
    "\n",
    "Tasa de incumplimiento basada en el propósito del préstamo:\n",
    "\n",
    "Educación: 9.23% de tasa de incumplimiento\n",
    "Matrimonio: 9.75% de tasa de incumplimiento\n",
    "Compra de vivienda: 7.23% de tasa de incumplimiento\n",
    "Compra de un automóvil: 7.51% de tasa de incumplimiento\n",
    "Otros propósitos: 8.00% de tasa de incumplimiento\n",
    "Bienes raíces: 7.13% de tasa de incumplimiento\n",
    "Reparaciones: 9.45% de tasa de incumplimiento\n",
    "Compra de bienes raíces comerciales: 7.40% de tasa de incumplimiento\n",
    "\n"
   ]
  },
  {
   "cell_type": "markdown",
   "metadata": {},
   "source": [
    "# Conclusión general \n",
    "\n",
    "En este análisis exploratorio de datos sobre préstamos, hemos investigado la relación entre diferentes variables y la puntualidad en el pago de préstamos. A continuación, resumimos nuestras conclusiones principales:\n",
    "\n",
    "Relación entre tener hijos y puntualidad en el pago: Observamos que las personas con hijos tienden a tener una tasa de incumplimiento ligeramente mayor en comparación con las personas sin hijos. Esto podría indicar que tener hijos podría ser un factor que influya en la capacidad de cumplir con los pagos a tiempo.\n",
    "\n",
    "Relación entre el estado civil y puntualidad en el pago: Encontramos diferencias ligeras en la tasa de incumplimiento según el estado civil. Las personas con estado civil \"unmarried\" (no casadas) presentan la tasa de incumplimiento más baja, seguidas por \"civil partnership\", \"married\", \"divorced\" y \"widow/widower\". Aunque estas diferencias no son significativas, sugiere que el estado civil podría tener algún impacto en el comportamiento de pago.\n",
    "\n",
    "Relación entre el nivel de ingresos y puntualidad en el pago: Observamos que los grupos con ingresos más altos tienden a tener una tasa de incumplimiento ligeramente menor en comparación con los grupos de ingresos más bajos. Aunque las diferencias no son significativas, esto sugiere que el nivel de ingresos podría tener alguna influencia en la puntualidad en el pago de préstamos.\n",
    "\n",
    "Relación entre el propósito del préstamo y puntualidad en el pago: Encontramos diferencias significativas en la tasa de incumplimiento según el propósito del préstamo. Los préstamos destinados a \"educación\" y \"matrimonio\" tienen tasas de incumplimiento más altas, mientras que los préstamos para \"compra de vivienda\" y \"compra de un automóvil\" presentan tasas de incumplimiento más bajas."
   ]
  },
  {
   "cell_type": "code",
   "execution_count": null,
   "metadata": {},
   "outputs": [],
   "source": []
  }
 ],
 "metadata": {
  "ExecuteTimeLog": [
   {
    "duration": 2741,
    "start_time": "2021-10-21T01:08:49.480Z"
   },
   {
    "duration": 52,
    "start_time": "2021-10-21T01:08:53.315Z"
   },
   {
    "duration": 49,
    "start_time": "2021-10-21T01:08:57.432Z"
   },
   {
    "duration": 70,
    "start_time": "2021-10-21T01:09:07.706Z"
   }
  ],
  "kernelspec": {
   "display_name": "Python 3 (ipykernel)",
   "language": "python",
   "name": "python3"
  },
  "language_info": {
   "codemirror_mode": {
    "name": "ipython",
    "version": 3
   },
   "file_extension": ".py",
   "mimetype": "text/x-python",
   "name": "python",
   "nbconvert_exporter": "python",
   "pygments_lexer": "ipython3",
   "version": "3.9.5"
  },
  "toc": {
   "base_numbering": 1,
   "nav_menu": {},
   "number_sections": true,
   "sideBar": true,
   "skip_h1_title": true,
   "title_cell": "Table of Contents",
   "title_sidebar": "Contents",
   "toc_cell": false,
   "toc_position": {},
   "toc_section_display": true,
   "toc_window_display": false
  }
 },
 "nbformat": 4,
 "nbformat_minor": 2
}
